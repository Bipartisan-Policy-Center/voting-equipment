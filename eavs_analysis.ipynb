{
 "cells": [
  {
   "cell_type": "code",
   "execution_count": 347,
   "id": "17667ac2",
   "metadata": {},
   "outputs": [],
   "source": [
    "import pandas as pd\n",
    "import numpy as np\n",
    "import matplotlib.pyplot as plt\n",
    "import humanize"
   ]
  },
  {
   "cell_type": "code",
   "execution_count": 281,
   "id": "9393ad0f",
   "metadata": {},
   "outputs": [
    {
     "name": "stderr",
     "output_type": "stream",
     "text": [
      "/var/folders/2f/3k2b0y_s79n84y37bcnb5t5h0000gn/T/ipykernel_11973/2262798349.py:5: DtypeWarning: Columns (19) have mixed types. Specify dtype option on import or set low_memory=False.\n",
      "  vv = pd.read_csv('data/vv_capture_2025-07-23_14-12-58/cleaned_verifier_data.csv', converters={'FIPS code': str}).convert_dtypes()\n"
     ]
    }
   ],
   "source": [
    "# eavs = pd.read_csv('/Users/will/Repos/voting-equipment/eavs/2024_EAVS_for_Public_Release_nolabel_V1.csv')\n",
    "eavs = pd.read_excel('/Users/will/Repos/voting-equipment/eavs/2024_EAVS_for_Public_Release_V1_xlsx.xlsx')\n",
    "codebook = pd.read_excel('/Users/will/Repos/voting-equipment/eavs/2024_EAVS_Codebook.xlsx', index_col=0)\n",
    "\n",
    "vv = pd.read_csv('data/vv_capture_2025-07-23_14-12-58/cleaned_verifier_data.csv', converters={'FIPS code': str}).convert_dtypes()\n"
   ]
  },
  {
   "cell_type": "code",
   "execution_count": 282,
   "id": "a6d8b2c9",
   "metadata": {},
   "outputs": [],
   "source": [
    "# Simulation parameters:\n",
    "# - vvsg2_multiplier: applies a cost bump to all equipment types to reflect VVSG 2.x\n",
    "#       ACET says 20-50% more, but we've heard lower and higher estimates, so let's use 1.2.\n",
    "# - bmd_cost: base cost of Ballot Marking Devices. $3500 is what Brennan used,\n",
    "#       and aligns with Caulfield's findings for ExpressVote pricing.\n",
    "# - hand_fed_scanner_cost: cost of precinct-count scanners like DS200.\n",
    "#       $5750 replicates Caulfield's estimate for DS200:\n",
    "#       \"We present summary statistics on pricing trends for a number of different voting\n",
    "#        machines. The most common one in our sample—ES&S’s Model DS200 optical\n",
    "#        scanner—had a strikingly consistent mode and median unit price of $5,750, which\n",
    "#        is consistent with previous assessments\"\n",
    "#       $5000 is what Brennan used\n",
    "# - batch_fed_scanner_cost: cost of high-speed scanners like DS850.\n",
    "#       \"These scan­ners can cost anywhere between $50,000 and $100,000 each,\"\n",
    "#       according to https://verifiedvoting.org/voting-machines-at-risk-in-2022-a-joint-analysis-from-the-brennan-center-and-verified-voting/\n",
    "# - n_hand_fed_scanners_per_precinct: number of hand-fed scanners per precinct.\n",
    "# - n_bmds_per_precinct: number of BMDs per precinct.\n",
    "# - n_bmds_for_all_per_precinct: number of BMDs per precinct in jurisdictions\n",
    "#       that use BMDs or DREs for all voters.\n",
    "# - n_voters_per_batch_scanner: number of voters required per batch-fed scanner.\n",
    "#   could get some anchors and adjust this by rate of mail-in voting.\n",
    "\n",
    "parameters = {\n",
    "    \"vvsg2_multiplier\": 1.2,\n",
    "    \"bmd_cost\": 3500,\n",
    "    \"hand_fed_scanner_cost\": 5000,\n",
    "    \"batch_fed_scanner_cost\": 75000,\n",
    "    \"n_hand_fed_scanners_per_precinct\": 1,\n",
    "    \"n_bmds_per_precinct\": 2,\n",
    "    \"n_bmds_for_all_per_precinct\": 4,\n",
    "    \"n_voters_per_batch_scanner\": 10000,\n",
    "}\n"
   ]
  },
  {
   "cell_type": "markdown",
   "id": "828d02e7",
   "metadata": {},
   "source": [
    "goals:\n",
    "  - estimate number of hand fed scanners per polling place\n",
    "  - estimate number of BMDs per polling place, whether BMD for all or not\n",
    "  - estimate number of batch-fed scanners per registered voter\n",
    "\n",
    "sanity checks:\n",
    "  - are total number of registered voters in line with VV dataset?\n",
    "    - VV: 222 M; EAVS: 235 M. ✔️\n",
    "  - and what about precincts?\n",
    "    - VV: 184 K; EAVS: 178 K. ✔️\n",
    "    - but why does VV use precincts and not polling places? there are 95.8 k polling places."
   ]
  },
  {
   "cell_type": "code",
   "execution_count": 283,
   "id": "b962542c",
   "metadata": {},
   "outputs": [],
   "source": [
    "# convert to int if numeric\n",
    "def safe_pos_float(x):\n",
    "    try:\n",
    "        x = float(x)\n",
    "        if x > 0:\n",
    "            return x\n",
    "        else:\n",
    "            return 0\n",
    "    except ValueError:\n",
    "        return 0"
   ]
  },
  {
   "cell_type": "code",
   "execution_count": 354,
   "id": "c0fa342b",
   "metadata": {},
   "outputs": [
    {
     "data": {
      "text/plain": [
       "'234.5 million'"
      ]
     },
     "execution_count": 354,
     "metadata": {},
     "output_type": "execute_result"
    }
   ],
   "source": [
    "humanize.intword(eavs['A1a'].apply(safe_pos_float).sum()) # registered voters"
   ]
  },
  {
   "cell_type": "code",
   "execution_count": 355,
   "id": "2897b35c",
   "metadata": {},
   "outputs": [
    {
     "data": {
      "text/plain": [
       "'177.7 thousand'"
      ]
     },
     "execution_count": 355,
     "metadata": {},
     "output_type": "execute_result"
    }
   ],
   "source": [
    "humanize.intword(eavs['D1a'].apply(safe_pos_float).sum()) # precincts"
   ]
  },
  {
   "cell_type": "code",
   "execution_count": 356,
   "id": "be1359ab",
   "metadata": {},
   "outputs": [
    {
     "data": {
      "text/plain": [
       "'2.2 million'"
      ]
     },
     "execution_count": 356,
     "metadata": {},
     "output_type": "execute_result"
    }
   ],
   "source": [
    "humanize.intword(eavs['A4k'].apply(safe_pos_float).sum()) # polling places total"
   ]
  },
  {
   "cell_type": "code",
   "execution_count": 357,
   "id": "77d33043",
   "metadata": {},
   "outputs": [
    {
     "data": {
      "text/plain": [
       "'95.8 thousand'"
      ]
     },
     "execution_count": 357,
     "metadata": {},
     "output_type": "execute_result"
    }
   ],
   "source": [
    "humanize.intword(eavs['D2a'].apply(safe_pos_float).sum()) # polling places 2024 general election"
   ]
  },
  {
   "cell_type": "code",
   "execution_count": null,
   "id": "2095de3f",
   "metadata": {},
   "outputs": [
    {
     "data": {
      "text/plain": [
       "'94.9 thousand'"
      ]
     },
     "execution_count": 358,
     "metadata": {},
     "output_type": "execute_result"
    }
   ],
   "source": [
    "humanize.intword(eavs['D3a'].apply(safe_pos_float).sum()) # polling places 2024 election day"
   ]
  },
  {
   "cell_type": "code",
   "execution_count": 320,
   "id": "7d30a7d3",
   "metadata": {},
   "outputs": [],
   "source": [
    "df = eavs.copy()\n",
    "def coerce_column(col):\n",
    "    col = pd.to_numeric(col, errors='coerce')\n",
    "    col.loc[col < 0] = np.nan  # set negative values to NaN\n",
    "    return col\n",
    "\n",
    "numeric_columns = ['F5c_1', 'D1a', 'A1a', 'D2a', 'F1a', 'F1b', 'F1e', 'F1f', 'F1g']\n",
    "for col in numeric_columns:\n",
    "    df[col] = coerce_column(df[col])"
   ]
  },
  {
   "cell_type": "code",
   "execution_count": 342,
   "id": "dca6c12f",
   "metadata": {},
   "outputs": [
    {
     "data": {
      "text/plain": [
       "np.float64(6.3921419196409675)"
      ]
     },
     "execution_count": 342,
     "metadata": {},
     "output_type": "execute_result"
    }
   ],
   "source": [
    "has_bmd = df['F5a'] == 'Yes'\n",
    "bmd_for_all_fips = vv[vv['Election Day Marking Method'] == 'Ballot Marking Devices for all voters']['FIPS code'].apply(int).unique()\n",
    "\n",
    "bmd_for_all = (df['F5a'] == 'Yes') & (df['FIPSCode'].isin(bmd_for_all_fips))\n",
    "n_bmds = df[bmd_for_all]['F5c_1'].apply(safe_pos_float).sum() # BMDs for all voters\n",
    "n_precincts = df[bmd_for_all]['D1a'].apply(safe_pos_float).sum()\n",
    "n_polling_places = df[bmd_for_all]['D2a'].apply(safe_pos_float).sum() # polling places total\n",
    "\n",
    "n_bmds / n_polling_places # BMDs per precinct in jurisdictions that use BMDs for all voters"
   ]
  },
  {
   "cell_type": "code",
   "execution_count": 343,
   "id": "242f0969",
   "metadata": {},
   "outputs": [
    {
     "data": {
      "text/plain": [
       "np.float64(1.2365954069738605)"
      ]
     },
     "execution_count": 343,
     "metadata": {},
     "output_type": "execute_result"
    }
   ],
   "source": [
    "not_bmd_for_all = (df['F5a'] == 'Yes') & (~df['FIPSCode'].isin(bmd_for_all_fips))\n",
    "n_bmds = df[not_bmd_for_all]['F5c_1'].apply(safe_pos_float).sum() # BMDs for not all voters\n",
    "n_precincts = df[not_bmd_for_all]['D1a'].apply(safe_pos_float).sum()\n",
    "n_polling_places = df[not_bmd_for_all]['D2a'].apply(safe_pos_float).sum() # polling places total\n",
    "\n",
    "n_bmds / n_polling_places"
   ]
  },
  {
   "cell_type": "code",
   "execution_count": 323,
   "id": "cbf2dcb1",
   "metadata": {},
   "outputs": [],
   "source": [
    "# need to sort models by which ones are central scanners"
   ]
  },
  {
   "cell_type": "code",
   "execution_count": 324,
   "id": "625b1a5b",
   "metadata": {},
   "outputs": [],
   "source": [
    "scanners = {\n",
    "    'AccuVote-OS (Premier)': 'hand-fed',\n",
    "    'BallotNow (Hart)': 'batch-fed',\n",
    "    'Chatsworth ACP (MicroVotes)': 'hand-fed',\n",
    "    'ClearCast (Clear Ballot)': 'hand-fed',\n",
    "    'ClearCount (Clear Ballot)': 'batch-fed',\n",
    "    'DS200 (ES&S)': 'hand-fed',\n",
    "    'DS300 (ES&S)': 'hand-fed',\n",
    "    'DS450 (ES&S)': 'batch-fed',\n",
    "    'DS850 (ES&S)': 'batch-fed',\n",
    "    'DS950 (ES&S)': 'batch-fed',\n",
    "    'ExpressVote Tabulator (ES&S)': 'hand-fed',\n",
    "    'ExpressVoteXL (ES&S)': 'hand-fed',\n",
    "    'IBML (Los Angeles County)': 'batch-fed',\n",
    "    'ImageCast Central/ICC (Dominion)': 'batch-fed',\n",
    "    'ImageCast Evolution/ICE (Dominion)': 'hand-fed',\n",
    "    'ImageCast Precinct/ICP (Dominion)': 'hand-fed',\n",
    "    'ImageCast Precint2/ICP2': 'hand-fed',\n",
    "    'M100 (ES&S)': 'hand-fed',\n",
    "    'M650 (ES&S)': 'batch-fed',\n",
    "    'OpenElect Freedom Vote Scan (Unisyn)': 'hand-fed',\n",
    "    'OpenElect Voting Central Scan/OVCS (Unisyn)': 'batch-fed',\n",
    "    'OpenElect Voting Optical Scan/OVO (Unisyn)': 'hand-fed',\n",
    "    'Verity Central (Hart)': 'batch-fed',\n",
    "    'Verity Scan (Hart)': 'hand-fed',\n",
    "    'eScan (Hart)': 'hand-fed'\n",
    "}\n"
   ]
  },
  {
   "cell_type": "code",
   "execution_count": 325,
   "id": "b2671707",
   "metadata": {},
   "outputs": [],
   "source": [
    "# Function to compute hand-fed and batch-fed totals for a row\n",
    "def count_scanners(row):\n",
    "    hand_total = 0\n",
    "    batch_total = 0\n",
    "    has_hand = False\n",
    "    has_batch = False\n",
    "    has_data = False\n",
    "\n",
    "    for i in range(1, 4):\n",
    "        model = row.get(f'F6b_{i}')\n",
    "        count = row.get(f'F6c_{i}')\n",
    "        if pd.isna(model) or pd.isna(count):\n",
    "            continue\n",
    "        has_data = True\n",
    "\n",
    "        feed_type = scanners.get(model, 'unknown')\n",
    "        if feed_type == 'unknown':\n",
    "            return pd.Series({'hand_fed_total': np.nan, 'batch_fed_total': np.nan})\n",
    "        elif feed_type == 'hand-fed':\n",
    "            hand_total += count\n",
    "            has_hand = True\n",
    "        elif feed_type == 'batch-fed':\n",
    "            batch_total += count\n",
    "            has_batch = True\n",
    "\n",
    "    if not has_data:\n",
    "        return pd.Series({'hand_fed_total': np.nan, 'batch_fed_total': np.nan})\n",
    "\n",
    "    return pd.Series({\n",
    "        'hand_fed_total': hand_total if has_hand else np.nan,\n",
    "        'batch_fed_total': batch_total if has_batch else np.nan\n",
    "    })\n",
    "\n",
    "\n",
    "# Ensure scanner counts are numeric (in case they're strings)\n",
    "for i in range(1, 4):\n",
    "    col = f'F6c_{i}'\n",
    "    if col in df.columns:\n",
    "        df[col] = pd.to_numeric(df[col], errors='coerce')\n",
    "\n",
    "# Apply function row-wise\n",
    "df[['hand_fed_total', 'batch_fed_total']] = df.apply(count_scanners, axis=1)\n"
   ]
  },
  {
   "cell_type": "code",
   "execution_count": 326,
   "id": "410dd02f",
   "metadata": {},
   "outputs": [
    {
     "data": {
      "text/plain": [
       "np.float64(0.9561009677741196)"
      ]
     },
     "execution_count": 326,
     "metadata": {},
     "output_type": "execute_result"
    }
   ],
   "source": [
    "has_hand_fed_scanners = df['hand_fed_total'] > 0\n",
    "n_precincts = df[has_hand_fed_scanners]['D1a'].apply(safe_pos_float).sum()\n",
    "df[has_hand_fed_scanners]['hand_fed_total'].sum() / n_precincts\n"
   ]
  },
  {
   "cell_type": "code",
   "execution_count": 327,
   "id": "2cc11abf",
   "metadata": {},
   "outputs": [
    {
     "data": {
      "text/plain": [
       "np.float64(51811.12229539041)"
      ]
     },
     "execution_count": 327,
     "metadata": {},
     "output_type": "execute_result"
    }
   ],
   "source": [
    "has_batch_fed_scanners = df['batch_fed_total'] > 0\n",
    "n_voters = df[has_batch_fed_scanners]['A1a'].apply(safe_pos_float).sum()\n",
    "n_voters / df[has_batch_fed_scanners]['batch_fed_total'].sum()"
   ]
  },
  {
   "cell_type": "code",
   "execution_count": 328,
   "id": "c0723e3a",
   "metadata": {},
   "outputs": [
    {
     "data": {
      "text/plain": [
       "np.float64(2126.0)"
      ]
     },
     "execution_count": 328,
     "metadata": {},
     "output_type": "execute_result"
    }
   ],
   "source": [
    "df['batch_fed_total'].sum()"
   ]
  },
  {
   "cell_type": "code",
   "execution_count": 332,
   "id": "48fa7fc6",
   "metadata": {},
   "outputs": [
    {
     "data": {
      "text/plain": [
       "AccuVote-OS (Premier)                             NaN\n",
       "BallotNow (Hart)                                  NaN\n",
       "Chatsworth ACP (MicroVotes)                       NaN\n",
       "ClearCast (Clear Ballot)                          NaN\n",
       "ClearCount (Clear Ballot)                        49.0\n",
       "DS200 (ES&S)                                   2170.0\n",
       "DS300 (ES&S)                                    107.0\n",
       "DS450 (ES&S)                                    413.0\n",
       "DS850 (ES&S)                                    176.0\n",
       "DS950 (ES&S)                                     39.0\n",
       "Data not available                              378.0\n",
       "Does not apply                                    NaN\n",
       "ExpressVote Tabulator (ES&S)                     13.0\n",
       "ExpressVoteXL (ES&S)                              NaN\n",
       "IBML (Los Angeles County)                         NaN\n",
       "ImageCast Central/ICC (Dominion)                407.0\n",
       "ImageCast Evolution/ICE (Dominion)                NaN\n",
       "ImageCast Precinct/ICP (Dominion)                 NaN\n",
       "ImageCast Precint2/ICP2                          70.0\n",
       "M100 (ES&S)                                       NaN\n",
       "M650 (ES&S)                                       NaN\n",
       "OpenElect Freedom Vote Scan (Unisyn)              NaN\n",
       "OpenElect Voting Central Scan/OVCS (Unisyn)       NaN\n",
       "OpenElect Voting Optical Scan/OVO (Unisyn)        NaN\n",
       "Other (use text box to describe)                287.0\n",
       "Valid skip                                        NaN\n",
       "Verity Central (Hart)                            79.0\n",
       "Verity Scan (Hart)                                NaN\n",
       "eScan (Hart)                                      NaN\n",
       "Name: count, dtype: float64"
      ]
     },
     "execution_count": 332,
     "metadata": {},
     "output_type": "execute_result"
    }
   ],
   "source": [
    "has_scanner = df['F6a'] == 'Yes'\n",
    "\n",
    "df[has_scanner]['F6b_1'].value_counts() + df[has_scanner]['F6b_2'].value_counts() + df[has_scanner]['F6b_3'].value_counts()"
   ]
  },
  {
   "cell_type": "code",
   "execution_count": null,
   "id": "44f4fd96",
   "metadata": {},
   "outputs": [
    {
     "data": {
      "text/html": [
       "<div>\n",
       "<style scoped>\n",
       "    .dataframe tbody tr th:only-of-type {\n",
       "        vertical-align: middle;\n",
       "    }\n",
       "\n",
       "    .dataframe tbody tr th {\n",
       "        vertical-align: top;\n",
       "    }\n",
       "\n",
       "    .dataframe thead th {\n",
       "        text-align: right;\n",
       "    }\n",
       "</style>\n",
       "<table border=\"1\" class=\"dataframe\">\n",
       "  <thead>\n",
       "    <tr style=\"text-align: right;\">\n",
       "      <th></th>\n",
       "      <th>FIPSCode</th>\n",
       "      <th>Jurisdiction_Name</th>\n",
       "      <th>State_Full</th>\n",
       "      <th>State_Abbr</th>\n",
       "      <th>A1a</th>\n",
       "      <th>A1b</th>\n",
       "      <th>A1c</th>\n",
       "      <th>A1d_Other</th>\n",
       "      <th>A1d</th>\n",
       "      <th>A1Comments</th>\n",
       "      <th>...</th>\n",
       "      <th>F11Comments</th>\n",
       "      <th>F12a</th>\n",
       "      <th>F12b</th>\n",
       "      <th>F12c</th>\n",
       "      <th>F12d</th>\n",
       "      <th>F12e</th>\n",
       "      <th>F12Comments</th>\n",
       "      <th>F13</th>\n",
       "      <th>hand_fed_total</th>\n",
       "      <th>batch_fed_total</th>\n",
       "    </tr>\n",
       "  </thead>\n",
       "  <tbody>\n",
       "    <tr>\n",
       "      <th>69</th>\n",
       "      <td>400100000</td>\n",
       "      <td>APACHE COUNTY</td>\n",
       "      <td>ARIZONA</td>\n",
       "      <td>AZ</td>\n",
       "      <td>57277.0</td>\n",
       "      <td>53735</td>\n",
       "      <td>3542</td>\n",
       "      <td>NaN</td>\n",
       "      <td>0</td>\n",
       "      <td>NaN</td>\n",
       "      <td>...</td>\n",
       "      <td>NaN</td>\n",
       "      <td>Central location</td>\n",
       "      <td>Central location</td>\n",
       "      <td>Central location</td>\n",
       "      <td>Central location</td>\n",
       "      <td>Central location</td>\n",
       "      <td>NaN</td>\n",
       "      <td>NaN</td>\n",
       "      <td>NaN</td>\n",
       "      <td>2.0</td>\n",
       "    </tr>\n",
       "    <tr>\n",
       "      <th>70</th>\n",
       "      <td>400300000</td>\n",
       "      <td>COCHISE COUNTY</td>\n",
       "      <td>ARIZONA</td>\n",
       "      <td>AZ</td>\n",
       "      <td>93667.0</td>\n",
       "      <td>82242</td>\n",
       "      <td>11425</td>\n",
       "      <td>NaN</td>\n",
       "      <td>NaN</td>\n",
       "      <td>NaN</td>\n",
       "      <td>...</td>\n",
       "      <td>NaN</td>\n",
       "      <td>Precinct or polling location</td>\n",
       "      <td>Both central and precinct location</td>\n",
       "      <td>Central location</td>\n",
       "      <td>Central location</td>\n",
       "      <td>Central location</td>\n",
       "      <td>NaN</td>\n",
       "      <td>NaN</td>\n",
       "      <td>20.0</td>\n",
       "      <td>3.0</td>\n",
       "    </tr>\n",
       "    <tr>\n",
       "      <th>71</th>\n",
       "      <td>400500000</td>\n",
       "      <td>COCONINO COUNTY</td>\n",
       "      <td>ARIZONA</td>\n",
       "      <td>AZ</td>\n",
       "      <td>107747.0</td>\n",
       "      <td>90681</td>\n",
       "      <td>17066</td>\n",
       "      <td>NaN</td>\n",
       "      <td>NaN</td>\n",
       "      <td>NaN</td>\n",
       "      <td>...</td>\n",
       "      <td>NaN</td>\n",
       "      <td>Central location</td>\n",
       "      <td>Central location</td>\n",
       "      <td>Central location</td>\n",
       "      <td>Central location</td>\n",
       "      <td>Central location</td>\n",
       "      <td>NaN</td>\n",
       "      <td>NaN</td>\n",
       "      <td>NaN</td>\n",
       "      <td>3.0</td>\n",
       "    </tr>\n",
       "    <tr>\n",
       "      <th>72</th>\n",
       "      <td>400700000</td>\n",
       "      <td>GILA COUNTY</td>\n",
       "      <td>ARIZONA</td>\n",
       "      <td>AZ</td>\n",
       "      <td>38962.0</td>\n",
       "      <td>34653</td>\n",
       "      <td>4309</td>\n",
       "      <td>NaN</td>\n",
       "      <td>NaN</td>\n",
       "      <td>NaN</td>\n",
       "      <td>...</td>\n",
       "      <td>NaN</td>\n",
       "      <td>Central location</td>\n",
       "      <td>Central location</td>\n",
       "      <td>Central location</td>\n",
       "      <td>Central location</td>\n",
       "      <td>Central location</td>\n",
       "      <td>NaN</td>\n",
       "      <td>NaN</td>\n",
       "      <td>NaN</td>\n",
       "      <td>1.0</td>\n",
       "    </tr>\n",
       "    <tr>\n",
       "      <th>73</th>\n",
       "      <td>400900000</td>\n",
       "      <td>GRAHAM COUNTY</td>\n",
       "      <td>ARIZONA</td>\n",
       "      <td>AZ</td>\n",
       "      <td>23295.0</td>\n",
       "      <td>20714</td>\n",
       "      <td>2581</td>\n",
       "      <td>NaN</td>\n",
       "      <td>NaN</td>\n",
       "      <td>NaN</td>\n",
       "      <td>...</td>\n",
       "      <td>NaN</td>\n",
       "      <td>Precinct or polling location</td>\n",
       "      <td>Precinct or polling location</td>\n",
       "      <td>Central location</td>\n",
       "      <td>Central location</td>\n",
       "      <td>Central location</td>\n",
       "      <td>NaN</td>\n",
       "      <td>NaN</td>\n",
       "      <td>8.0</td>\n",
       "      <td>1.0</td>\n",
       "    </tr>\n",
       "    <tr>\n",
       "      <th>...</th>\n",
       "      <td>...</td>\n",
       "      <td>...</td>\n",
       "      <td>...</td>\n",
       "      <td>...</td>\n",
       "      <td>...</td>\n",
       "      <td>...</td>\n",
       "      <td>...</td>\n",
       "      <td>...</td>\n",
       "      <td>...</td>\n",
       "      <td>...</td>\n",
       "      <td>...</td>\n",
       "      <td>...</td>\n",
       "      <td>...</td>\n",
       "      <td>...</td>\n",
       "      <td>...</td>\n",
       "      <td>...</td>\n",
       "      <td>...</td>\n",
       "      <td>...</td>\n",
       "      <td>...</td>\n",
       "      <td>...</td>\n",
       "      <td>...</td>\n",
       "    </tr>\n",
       "    <tr>\n",
       "      <th>6456</th>\n",
       "      <td>5603700000</td>\n",
       "      <td>SWEETWATER COUNTY</td>\n",
       "      <td>WYOMING</td>\n",
       "      <td>WY</td>\n",
       "      <td>18032.0</td>\n",
       "      <td>18032</td>\n",
       "      <td>Does not apply</td>\n",
       "      <td>DOES NOT APPLY</td>\n",
       "      <td>Does not apply</td>\n",
       "      <td>IN WYOMING, VOTERS DESIGNATED AS “INACTIVE” AR...</td>\n",
       "      <td>...</td>\n",
       "      <td>NaN</td>\n",
       "      <td>Central location</td>\n",
       "      <td>Central location</td>\n",
       "      <td>Central location</td>\n",
       "      <td>Central location</td>\n",
       "      <td>Central location</td>\n",
       "      <td>NaN</td>\n",
       "      <td>NaN</td>\n",
       "      <td>32.0</td>\n",
       "      <td>1.0</td>\n",
       "    </tr>\n",
       "    <tr>\n",
       "      <th>6457</th>\n",
       "      <td>5603900000</td>\n",
       "      <td>TETON COUNTY</td>\n",
       "      <td>WYOMING</td>\n",
       "      <td>WY</td>\n",
       "      <td>15390.0</td>\n",
       "      <td>15390</td>\n",
       "      <td>Does not apply</td>\n",
       "      <td>DOES NOT APPLY</td>\n",
       "      <td>Does not apply</td>\n",
       "      <td>IN WYOMING, VOTERS DESIGNATED AS “INACTIVE” AR...</td>\n",
       "      <td>...</td>\n",
       "      <td>NaN</td>\n",
       "      <td>Central location</td>\n",
       "      <td>Central location</td>\n",
       "      <td>Central location</td>\n",
       "      <td>Central location</td>\n",
       "      <td>Central location</td>\n",
       "      <td>NaN</td>\n",
       "      <td>NaN</td>\n",
       "      <td>12.0</td>\n",
       "      <td>1.0</td>\n",
       "    </tr>\n",
       "    <tr>\n",
       "      <th>6458</th>\n",
       "      <td>5604100000</td>\n",
       "      <td>UINTA COUNTY</td>\n",
       "      <td>WYOMING</td>\n",
       "      <td>WY</td>\n",
       "      <td>10041.0</td>\n",
       "      <td>10041</td>\n",
       "      <td>Does not apply</td>\n",
       "      <td>DOES NOT APPLY</td>\n",
       "      <td>Does not apply</td>\n",
       "      <td>IN WYOMING, VOTERS DESIGNATED AS “INACTIVE” AR...</td>\n",
       "      <td>...</td>\n",
       "      <td>NaN</td>\n",
       "      <td>Central location</td>\n",
       "      <td>Central location</td>\n",
       "      <td>Central location</td>\n",
       "      <td>Central location</td>\n",
       "      <td>Central location</td>\n",
       "      <td>NaN</td>\n",
       "      <td>NaN</td>\n",
       "      <td>11.0</td>\n",
       "      <td>NaN</td>\n",
       "    </tr>\n",
       "    <tr>\n",
       "      <th>6459</th>\n",
       "      <td>5604300000</td>\n",
       "      <td>WASHAKIE COUNTY</td>\n",
       "      <td>WYOMING</td>\n",
       "      <td>WY</td>\n",
       "      <td>4203.0</td>\n",
       "      <td>4203</td>\n",
       "      <td>Does not apply</td>\n",
       "      <td>DOES NOT APPLY</td>\n",
       "      <td>Does not apply</td>\n",
       "      <td>IN WYOMING, VOTERS DESIGNATED AS “INACTIVE” AR...</td>\n",
       "      <td>...</td>\n",
       "      <td>NaN</td>\n",
       "      <td>Central location</td>\n",
       "      <td>Central location</td>\n",
       "      <td>Central location</td>\n",
       "      <td>Central location</td>\n",
       "      <td>Central location</td>\n",
       "      <td>NaN</td>\n",
       "      <td>NaN</td>\n",
       "      <td>7.0</td>\n",
       "      <td>NaN</td>\n",
       "    </tr>\n",
       "    <tr>\n",
       "      <th>6460</th>\n",
       "      <td>5604500000</td>\n",
       "      <td>WESTON COUNTY</td>\n",
       "      <td>WYOMING</td>\n",
       "      <td>WY</td>\n",
       "      <td>3833.0</td>\n",
       "      <td>3833</td>\n",
       "      <td>Does not apply</td>\n",
       "      <td>DOES NOT APPLY</td>\n",
       "      <td>Does not apply</td>\n",
       "      <td>IN WYOMING, VOTERS DESIGNATED AS “INACTIVE” AR...</td>\n",
       "      <td>...</td>\n",
       "      <td>NaN</td>\n",
       "      <td>Central location</td>\n",
       "      <td>Central location</td>\n",
       "      <td>Central location</td>\n",
       "      <td>Central location</td>\n",
       "      <td>Central location</td>\n",
       "      <td>NaN</td>\n",
       "      <td>NaN</td>\n",
       "      <td>5.0</td>\n",
       "      <td>NaN</td>\n",
       "    </tr>\n",
       "  </tbody>\n",
       "</table>\n",
       "<p>1675 rows × 537 columns</p>\n",
       "</div>"
      ],
      "text/plain": [
       "        FIPSCode  Jurisdiction_Name State_Full State_Abbr       A1a    A1b  \\\n",
       "69     400100000      APACHE COUNTY    ARIZONA         AZ   57277.0  53735   \n",
       "70     400300000     COCHISE COUNTY    ARIZONA         AZ   93667.0  82242   \n",
       "71     400500000    COCONINO COUNTY    ARIZONA         AZ  107747.0  90681   \n",
       "72     400700000        GILA COUNTY    ARIZONA         AZ   38962.0  34653   \n",
       "73     400900000      GRAHAM COUNTY    ARIZONA         AZ   23295.0  20714   \n",
       "...          ...                ...        ...        ...       ...    ...   \n",
       "6456  5603700000  SWEETWATER COUNTY    WYOMING         WY   18032.0  18032   \n",
       "6457  5603900000       TETON COUNTY    WYOMING         WY   15390.0  15390   \n",
       "6458  5604100000       UINTA COUNTY    WYOMING         WY   10041.0  10041   \n",
       "6459  5604300000    WASHAKIE COUNTY    WYOMING         WY    4203.0   4203   \n",
       "6460  5604500000      WESTON COUNTY    WYOMING         WY    3833.0   3833   \n",
       "\n",
       "                 A1c       A1d_Other             A1d  \\\n",
       "69              3542             NaN               0   \n",
       "70             11425             NaN             NaN   \n",
       "71             17066             NaN             NaN   \n",
       "72              4309             NaN             NaN   \n",
       "73              2581             NaN             NaN   \n",
       "...              ...             ...             ...   \n",
       "6456  Does not apply  DOES NOT APPLY  Does not apply   \n",
       "6457  Does not apply  DOES NOT APPLY  Does not apply   \n",
       "6458  Does not apply  DOES NOT APPLY  Does not apply   \n",
       "6459  Does not apply  DOES NOT APPLY  Does not apply   \n",
       "6460  Does not apply  DOES NOT APPLY  Does not apply   \n",
       "\n",
       "                                             A1Comments  ... F11Comments  \\\n",
       "69                                                  NaN  ...         NaN   \n",
       "70                                                  NaN  ...         NaN   \n",
       "71                                                  NaN  ...         NaN   \n",
       "72                                                  NaN  ...         NaN   \n",
       "73                                                  NaN  ...         NaN   \n",
       "...                                                 ...  ...         ...   \n",
       "6456  IN WYOMING, VOTERS DESIGNATED AS “INACTIVE” AR...  ...         NaN   \n",
       "6457  IN WYOMING, VOTERS DESIGNATED AS “INACTIVE” AR...  ...         NaN   \n",
       "6458  IN WYOMING, VOTERS DESIGNATED AS “INACTIVE” AR...  ...         NaN   \n",
       "6459  IN WYOMING, VOTERS DESIGNATED AS “INACTIVE” AR...  ...         NaN   \n",
       "6460  IN WYOMING, VOTERS DESIGNATED AS “INACTIVE” AR...  ...         NaN   \n",
       "\n",
       "                              F12a                                F12b  \\\n",
       "69                Central location                    Central location   \n",
       "70    Precinct or polling location  Both central and precinct location   \n",
       "71                Central location                    Central location   \n",
       "72                Central location                    Central location   \n",
       "73    Precinct or polling location        Precinct or polling location   \n",
       "...                            ...                                 ...   \n",
       "6456              Central location                    Central location   \n",
       "6457              Central location                    Central location   \n",
       "6458              Central location                    Central location   \n",
       "6459              Central location                    Central location   \n",
       "6460              Central location                    Central location   \n",
       "\n",
       "                  F12c              F12d              F12e F12Comments  F13  \\\n",
       "69    Central location  Central location  Central location         NaN  NaN   \n",
       "70    Central location  Central location  Central location         NaN  NaN   \n",
       "71    Central location  Central location  Central location         NaN  NaN   \n",
       "72    Central location  Central location  Central location         NaN  NaN   \n",
       "73    Central location  Central location  Central location         NaN  NaN   \n",
       "...                ...               ...               ...         ...  ...   \n",
       "6456  Central location  Central location  Central location         NaN  NaN   \n",
       "6457  Central location  Central location  Central location         NaN  NaN   \n",
       "6458  Central location  Central location  Central location         NaN  NaN   \n",
       "6459  Central location  Central location  Central location         NaN  NaN   \n",
       "6460  Central location  Central location  Central location         NaN  NaN   \n",
       "\n",
       "     hand_fed_total batch_fed_total  \n",
       "69              NaN             2.0  \n",
       "70             20.0             3.0  \n",
       "71              NaN             3.0  \n",
       "72              NaN             1.0  \n",
       "73              8.0             1.0  \n",
       "...             ...             ...  \n",
       "6456           32.0             1.0  \n",
       "6457           12.0             1.0  \n",
       "6458           11.0             NaN  \n",
       "6459            7.0             NaN  \n",
       "6460            5.0             NaN  \n",
       "\n",
       "[1675 rows x 537 columns]"
      ]
     },
     "execution_count": 336,
     "metadata": {},
     "output_type": "execute_result"
    }
   ],
   "source": [
    "df[df.apply(lambda x: x.str.contains('ExpressVote').any(), axis=1)]"
   ]
  },
  {
   "cell_type": "markdown",
   "id": "058e0f37",
   "metadata": {},
   "source": [
    "do batch-fed scanners as a function of number of mail-in ballots"
   ]
  },
  {
   "cell_type": "code",
   "execution_count": 301,
   "id": "52a73980",
   "metadata": {},
   "outputs": [
    {
     "data": {
      "text/plain": [
       "np.float64(47629437.0)"
      ]
     },
     "execution_count": 301,
     "metadata": {},
     "output_type": "execute_result"
    }
   ],
   "source": [
    "pd.to_numeric(df['C8a'], errors='coerce').sum()"
   ]
  },
  {
   "cell_type": "code",
   "execution_count": 302,
   "id": "39e78b9e",
   "metadata": {},
   "outputs": [],
   "source": [
    "df[['F1b', 'F1e', 'F1f', 'F1g']] = df[['F1b', 'F1e', 'F1f', 'F1g']].fillna(0)"
   ]
  },
  {
   "cell_type": "code",
   "execution_count": 303,
   "id": "6bfc29f8",
   "metadata": {},
   "outputs": [
    {
     "data": {
      "text/plain": [
       "np.float64(55.069413)"
      ]
     },
     "execution_count": 303,
     "metadata": {},
     "output_type": "execute_result"
    }
   ],
   "source": [
    "df['ballots_counted_centrally'] = df.loc[df['F12a'] == 'Central location', 'F1b'] + \\\n",
    "    df.loc[df['F12c'] == 'Central location', 'F1e'] + \\\n",
    "    df.loc[df['F12d'] == 'Central location', 'F1f'] + \\\n",
    "    df.loc[df['F12e'] == 'Central location', 'F1g']\n",
    "\n",
    "df['ballots_counted_centrally'].sum() / 1e6"
   ]
  },
  {
   "cell_type": "code",
   "execution_count": null,
   "id": "3ae46463",
   "metadata": {},
   "outputs": [
    {
     "data": {
      "text/plain": [
       "State_Full\n",
       "CALIFORNIA                  16.164330\n",
       "TEXAS                       11.488820\n",
       "FLORIDA                     10.999125\n",
       "NEW YORK                     8.389626\n",
       "PENNSYLVANIA                 7.074875\n",
       "OHIO                         5.851625\n",
       "NORTH CAROLINA               5.756106\n",
       "ILLINOIS                     5.717147\n",
       "MICHIGAN                     5.706503\n",
       "GEORGIA                      5.297500\n",
       "VIRGINIA                     4.511853\n",
       "NEW JERSEY                   4.321921\n",
       "WASHINGTON                   3.949810\n",
       "MASSACHUSETTS                3.512930\n",
       "ARIZONA                      3.477975\n",
       "WISCONSIN                    3.434185\n",
       "MINNESOTA                    3.271069\n",
       "COLORADO                     3.240754\n",
       "MISSOURI                     3.126837\n",
       "TENNESSEE                    3.090161\n",
       "MARYLAND                     3.028813\n",
       "INDIANA                      2.986839\n",
       "SOUTH CAROLINA               2.566404\n",
       "ALABAMA                      2.272911\n",
       "OREGON                       2.269608\n",
       "KENTUCKY                     2.086090\n",
       "LOUISIANA                    2.021588\n",
       "CONNECTICUT                  1.820891\n",
       "IOWA                         1.674011\n",
       "OKLAHOMA                     1.573274\n",
       "NEVADA                       1.486297\n",
       "UTAH                         1.466896\n",
       "KANSAS                       1.342102\n",
       "PUERTO RICO                  1.283628\n",
       "MISSISSIPPI                  1.225176\n",
       "ARKANSAS                     1.122278\n",
       "NEBRASKA                     0.965145\n",
       "NEW MEXICO                   0.927923\n",
       "IDAHO                        0.917469\n",
       "MAINE                        0.842447\n",
       "NEW HAMPSHIRE                0.829090\n",
       "WEST VIRGINIA                0.769206\n",
       "MONTANA                      0.612423\n",
       "HAWAII                       0.522236\n",
       "RHODE ISLAND                 0.522164\n",
       "DELAWARE                     0.514367\n",
       "SOUTH DAKOTA                 0.435739\n",
       "NORTH DAKOTA                 0.371974\n",
       "VERMONT                      0.361604\n",
       "ALASKA                       0.340981\n",
       "DISTRICT OF COLUMBIA         0.328871\n",
       "WYOMING                      0.271123\n",
       "GUAM                         0.030283\n",
       "U.S. VIRGIN ISLANDS          0.015952\n",
       "NORTHERN MARIANA ISLANDS     0.012610\n",
       "AMERICAN SAMOA               0.010215\n",
       "Name: F1a, dtype: float64"
      ]
     },
     "execution_count": 304,
     "metadata": {},
     "output_type": "execute_result"
    }
   ],
   "source": []
  },
  {
   "cell_type": "code",
   "execution_count": 309,
   "id": "93745ca3",
   "metadata": {},
   "outputs": [
    {
     "data": {
      "text/plain": [
       "State_Full\n",
       "HAWAII                      100.000000\n",
       "GUAM                         99.494766\n",
       "NEVADA                       99.248939\n",
       "COLORADO                     99.005355\n",
       "WEST VIRGINIA                96.870669\n",
       "LOUISIANA                    93.874914\n",
       "OKLAHOMA                     93.468207\n",
       "DELAWARE                     93.129419\n",
       "NORTHERN MARIANA ISLANDS     92.743854\n",
       "NEW YORK                     89.417085\n",
       "NEW MEXICO                   87.397446\n",
       "WYOMING                      85.416951\n",
       "CALIFORNIA                   83.172522\n",
       "ILLINOIS                     81.783869\n",
       "UTAH                         74.920785\n",
       "MARYLAND                     74.809571\n",
       "NEBRASKA                     70.935766\n",
       "TEXAS                        68.043176\n",
       "SOUTH DAKOTA                 52.736615\n",
       "KENTUCKY                     46.229741\n",
       "MISSOURI                     42.897311\n",
       "OHIO                         35.855801\n",
       "ARKANSAS                     22.367007\n",
       "FLORIDA                      13.312423\n",
       "ARIZONA                       9.818386\n",
       "INDIANA                       0.257563\n",
       "TENNESSEE                     0.000000\n",
       "VERMONT                       0.000000\n",
       "SOUTH CAROLINA                0.000000\n",
       "RHODE ISLAND                  0.000000\n",
       "VIRGINIA                      0.000000\n",
       "PUERTO RICO                   0.000000\n",
       "WASHINGTON                    0.000000\n",
       "PENNSYLVANIA                  0.000000\n",
       "OREGON                        0.000000\n",
       "WISCONSIN                     0.000000\n",
       "U.S. VIRGIN ISLANDS           0.000000\n",
       "ALABAMA                       0.000000\n",
       "NORTH DAKOTA                  0.000000\n",
       "NORTH CAROLINA                0.000000\n",
       "AMERICAN SAMOA                0.000000\n",
       "CONNECTICUT                   0.000000\n",
       "DISTRICT OF COLUMBIA          0.000000\n",
       "GEORGIA                       0.000000\n",
       "IDAHO                         0.000000\n",
       "IOWA                          0.000000\n",
       "KANSAS                        0.000000\n",
       "MAINE                         0.000000\n",
       "MASSACHUSETTS                 0.000000\n",
       "MICHIGAN                      0.000000\n",
       "MINNESOTA                     0.000000\n",
       "MISSISSIPPI                   0.000000\n",
       "ALASKA                        0.000000\n",
       "NEW HAMPSHIRE                 0.000000\n",
       "NEW JERSEY                    0.000000\n",
       "MONTANA                       0.000000\n",
       "dtype: float64"
      ]
     },
     "execution_count": 309,
     "metadata": {},
     "output_type": "execute_result"
    }
   ],
   "source": [
    "(df.groupby('State_Full')['ballots_counted_centrally'].sum().sort_values(ascending=False) / df.groupby('State_Full')['F1a'].sum().sort_values(ascending=False)).sort_values(ascending=False)*100"
   ]
  },
  {
   "cell_type": "code",
   "execution_count": 267,
   "id": "c4e1c70f",
   "metadata": {},
   "outputs": [
    {
     "data": {
      "text/plain": [
       "np.float64(127.95959)"
      ]
     },
     "execution_count": 267,
     "metadata": {},
     "output_type": "execute_result"
    }
   ],
   "source": [
    "df[['F1b', 'F1e', 'F1f', 'F1g']].sum().sum()/1e6"
   ]
  },
  {
   "cell_type": "code",
   "execution_count": 254,
   "id": "c7ce1f7e",
   "metadata": {},
   "outputs": [
    {
     "data": {
      "text/plain": [
       "nan"
      ]
     },
     "execution_count": 254,
     "metadata": {},
     "output_type": "execute_result"
    }
   ],
   "source": [
    "0 + np.nan"
   ]
  },
  {
   "cell_type": "code",
   "execution_count": null,
   "id": "f6fbaf2b",
   "metadata": {},
   "outputs": [
    {
     "data": {
      "text/plain": [
       "F12a\n",
       "Precinct or polling location          4296\n",
       "Central location                      1088\n",
       "Both central and precinct location     736\n",
       "Data not available                     195\n",
       "Does not apply                          79\n",
       "Name: count, dtype: int64"
      ]
     },
     "execution_count": 214,
     "metadata": {},
     "output_type": "execute_result"
    }
   ],
   "source": [
    "df['F12a'].value_counts() #where votes were tallied for ballots cast in person on Election Day\n",
    "# aligns with F1b: total voters in person on election day\n",
    "\n",
    "# b ballots cast on accessible equipment for voters with disabilities\n",
    "??\n",
    "\n",
    "# c provisional ballots\n",
    "# aligns with F1e\n",
    "\n",
    "# d in person before eletion day\n",
    "# F1f\n",
    "\n",
    "# e mail ballots\n",
    "# F1g\n",
    "\n"
   ]
  },
  {
   "cell_type": "code",
   "execution_count": 218,
   "id": "2926d92c",
   "metadata": {},
   "outputs": [
    {
     "data": {
      "text/plain": [
       "F12e\n",
       "Precinct or polling location          2888\n",
       "Central location                      2707\n",
       "Both central and precinct location     719\n",
       "Data not available                      72\n",
       "Does not apply                           8\n",
       "Name: count, dtype: int64"
      ]
     },
     "execution_count": 218,
     "metadata": {},
     "output_type": "execute_result"
    }
   ],
   "source": [
    "df['F12e'].value_counts()"
   ]
  }
 ],
 "metadata": {
  "kernelspec": {
   "display_name": ".venv",
   "language": "python",
   "name": "python3"
  },
  "language_info": {
   "codemirror_mode": {
    "name": "ipython",
    "version": 3
   },
   "file_extension": ".py",
   "mimetype": "text/x-python",
   "name": "python",
   "nbconvert_exporter": "python",
   "pygments_lexer": "ipython3",
   "version": "3.13.0"
  }
 },
 "nbformat": 4,
 "nbformat_minor": 5
}
