{
 "cells": [
  {
   "cell_type": "code",
   "execution_count": 449,
   "id": "17667ac2",
   "metadata": {},
   "outputs": [],
   "source": [
    "import pandas as pd\n",
    "import numpy as np\n",
    "import matplotlib.pyplot as plt\n",
    "import humanize"
   ]
  },
  {
   "cell_type": "code",
   "execution_count": 450,
   "id": "9393ad0f",
   "metadata": {},
   "outputs": [
    {
     "name": "stderr",
     "output_type": "stream",
     "text": [
      "/var/folders/2f/3k2b0y_s79n84y37bcnb5t5h0000gn/T/ipykernel_11973/2262798349.py:5: DtypeWarning: Columns (19) have mixed types. Specify dtype option on import or set low_memory=False.\n",
      "  vv = pd.read_csv('data/vv_capture_2025-07-23_14-12-58/cleaned_verifier_data.csv', converters={'FIPS code': str}).convert_dtypes()\n"
     ]
    }
   ],
   "source": [
    "# eavs = pd.read_csv('/Users/will/Repos/voting-equipment/eavs/2024_EAVS_for_Public_Release_nolabel_V1.csv')\n",
    "eavs = pd.read_excel('/Users/will/Repos/voting-equipment/eavs/2024_EAVS_for_Public_Release_V1_xlsx.xlsx')\n",
    "codebook = pd.read_excel('/Users/will/Repos/voting-equipment/eavs/2024_EAVS_Codebook.xlsx', index_col=0)\n",
    "\n",
    "vv = pd.read_csv('data/vv_capture_2025-07-23_14-12-58/cleaned_verifier_data.csv', converters={'FIPS code': str}).convert_dtypes()\n"
   ]
  },
  {
   "cell_type": "markdown",
   "id": "828d02e7",
   "metadata": {},
   "source": [
    "goals:\n",
    "  - estimate number of hand fed scanners per polling place\n",
    "  - estimate number of BMDs per polling place, whether BMD for all or not\n",
    "  - estimate number of batch-fed scanners per registered voter\n",
    "\n",
    "sanity checks:\n",
    "  - are total number of registered voters in line with VV dataset?\n",
    "    - VV: 222 M; EAVS: 235 M. ✔️\n",
    "  - and what about precincts?\n",
    "    - VV: 184 K; EAVS: 178 K. ✔️\n",
    "    - but why does VV use precincts and not polling places? there are 95.8 k polling places.\n",
    "\n",
    "\n",
    "update: maybe just get amounts of equipment directly from EAVS"
   ]
  },
  {
   "cell_type": "code",
   "execution_count": 451,
   "id": "b962542c",
   "metadata": {},
   "outputs": [],
   "source": [
    "# convert to int if numeric\n",
    "def safe_pos_float(x):\n",
    "    try:\n",
    "        x = float(x)\n",
    "        if x > 0:\n",
    "            return x\n",
    "        else:\n",
    "            return 0\n",
    "    except ValueError:\n",
    "        return 0\n",
    "    \n",
    "def coerce_column(col):\n",
    "    col = pd.to_numeric(col, errors='coerce')\n",
    "    col.loc[col < 0] = np.nan  # set negative values to NaN\n",
    "    return col\n",
    "\n",
    "numeric_columns = ['F5c_1', 'D1a', 'A1a', 'D2a', 'F1a', 'F1b', 'F1d', 'F1e', 'F1f', 'F1g']\n",
    "for col in numeric_columns:\n",
    "    eavs[col] = coerce_column(eavs[col])"
   ]
  },
  {
   "cell_type": "code",
   "execution_count": 452,
   "id": "c0fa342b",
   "metadata": {},
   "outputs": [
    {
     "name": "stdout",
     "output_type": "stream",
     "text": [
      "234.5 million registered voters\n",
      "158.2 million ballots cast in person on election day\n",
      "177.7 thousand precincts\n",
      "2.2 million polling places total\n",
      "95.8 thousand polling places 2024 general election\n",
      "94.9 thousand polling places 2024 election day\n"
     ]
    }
   ],
   "source": [
    "print(f'{humanize.intword(eavs[\"A1a\"].apply(safe_pos_float).sum())} registered voters')\n",
    "print(f'{humanize.intword(eavs[\"F1a\"].apply(safe_pos_float).sum())} ballots cast in person on election day')\n",
    "print(f'{humanize.intword(eavs[\"D1a\"].apply(safe_pos_float).sum())} precincts')\n",
    "print(f'{humanize.intword(eavs[\"A4k\"].apply(safe_pos_float).sum())} polling places total')\n",
    "print(f'{humanize.intword(eavs[\"D2a\"].apply(safe_pos_float).sum())} polling places 2024 general election')\n",
    "print(f'{humanize.intword(eavs[\"D3a\"].apply(safe_pos_float).sum())} polling places 2024 election day')"
   ]
  },
  {
   "cell_type": "markdown",
   "id": "7cbcfeb6",
   "metadata": {},
   "source": [
    "\n",
    "EAVS question format on equipment\n",
    "\n",
    "F[#] Codes:\n",
    "\n",
    "F3 → DRE without VVPAT\n",
    "\n",
    "F4 → DRE with VVPAT\n",
    "\n",
    "F5 → Ballot Marking Device (BMD)\n",
    "\n",
    "F6 → Scanner\n",
    "```\n",
    "F[#] — Device Category\n",
    "├── a           → Is this device type used? (Yes/No)\n",
    "├── b_1         → Model of first device (if any)\n",
    "│   └── c_1     → Quantity of that model\n",
    "├── b_2         → Model of second device (if any)\n",
    "│   └── c_2     → Quantity of that model\n",
    "└── b_3         → Model of third device (if any)\n",
    "    └── c_3     → Quantity of that model\n",
    "```"
   ]
  },
  {
   "cell_type": "code",
   "execution_count": 453,
   "id": "eb769488",
   "metadata": {},
   "outputs": [],
   "source": [
    "# Ensure equipment counts are numeric \n",
    "for equipment in ['3', '4', '5', '6']:\n",
    "    for i in range(1, 4):\n",
    "        col = f'F{equipment}c_{i}'\n",
    "        if col in eavs.columns:\n",
    "            eavs[col] = coerce_column(eavs[col])\n"
   ]
  },
  {
   "cell_type": "code",
   "execution_count": null,
   "id": "0a0468b6",
   "metadata": {},
   "outputs": [],
   "source": [
    "scanners = {\n",
    "    'AccuVote-OS (Premier)': 'hand-fed',\n",
    "    'BallotNow (Hart)': 'batch-fed',\n",
    "    'Chatsworth ACP (MicroVotes)': 'hand-fed',\n",
    "    'ClearCast (Clear Ballot)': 'hand-fed',\n",
    "    'ClearCount (Clear Ballot)': 'batch-fed',\n",
    "    'DS200 (ES&S)': 'hand-fed',\n",
    "    'DS300 (ES&S)': 'hand-fed',\n",
    "    'DS450 (ES&S)': 'batch-fed',\n",
    "    'DS850 (ES&S)': 'batch-fed',\n",
    "    'DS950 (ES&S)': 'batch-fed',\n",
    "    'ExpressVote Tabulator (ES&S)': 'hand-fed',\n",
    "    'ExpressVoteXL (ES&S)': 'hand-fed',\n",
    "    'IBML (Los Angeles County)': 'batch-fed',\n",
    "    'ImageCast Central/ICC (Dominion)': 'batch-fed',\n",
    "    'ImageCast Evolution/ICE (Dominion)': 'hand-fed',\n",
    "    'ImageCast Precinct/ICP (Dominion)': 'hand-fed',\n",
    "    'ImageCast Precint2/ICP2': 'hand-fed',\n",
    "    'M100 (ES&S)': 'hand-fed',\n",
    "    'M650 (ES&S)': 'batch-fed',\n",
    "    'OpenElect Freedom Vote Scan (Unisyn)': 'hand-fed',\n",
    "    'OpenElect Voting Central Scan/OVCS (Unisyn)': 'batch-fed',\n",
    "    'OpenElect Voting Optical Scan/OVO (Unisyn)': 'hand-fed',\n",
    "    'Verity Central (Hart)': 'batch-fed',\n",
    "    'Verity Scan (Hart)': 'hand-fed',\n",
    "    'eScan (Hart)': 'hand-fed'\n",
    "}\n"
   ]
  },
  {
   "cell_type": "code",
   "execution_count": 498,
   "id": "b2671707",
   "metadata": {},
   "outputs": [],
   "source": [
    "def count_devices(row, prefix):\n",
    "    total = 0\n",
    "    has_data = False\n",
    "\n",
    "    for i in range(1, 4):\n",
    "        model = row.get(f'{prefix}b_{i}')\n",
    "        count = row.get(f'{prefix}c_{i}')\n",
    "        if pd.isna(model) or pd.isna(count):\n",
    "            continue\n",
    "        has_data = True\n",
    "        total += count\n",
    "\n",
    "    if not has_data:\n",
    "        return np.nan\n",
    "    return total\n",
    "\n",
    "equipment_codes = {'dre_wo_vvpat': 'F3',\n",
    "                   'dre_w_vvpat': 'F4',\n",
    "                   'bmd': 'F5',\n",
    "                   'scanner': 'F6'}\n",
    "\n",
    "for equipment, prefix in equipment_codes.items():\n",
    "    eavs[f'{equipment}_total'] = eavs.apply(lambda row: count_devices(row, prefix), axis=1)\n",
    "\n",
    "# Function to compute hand-fed and batch-fed totals for a row\n",
    "def count_scanners(row):\n",
    "    hand_total = 0\n",
    "    batch_total = 0\n",
    "    has_hand = False\n",
    "    has_batch = False\n",
    "    has_data = False\n",
    "\n",
    "    for i in range(1, 4):\n",
    "        model = row.get(f'F6b_{i}')\n",
    "        count = row.get(f'F6c_{i}')\n",
    "        if pd.isna(model) or pd.isna(count):\n",
    "            continue\n",
    "        has_data = True\n",
    "\n",
    "        feed_type = scanners.get(model, 'unknown')\n",
    "        if feed_type == 'unknown':\n",
    "            return pd.Series({'hand_fed_total': np.nan, 'batch_fed_total': np.nan})\n",
    "        elif feed_type == 'hand-fed':\n",
    "            hand_total += count\n",
    "            has_hand = True\n",
    "        elif feed_type == 'batch-fed':\n",
    "            batch_total += count\n",
    "            has_batch = True\n",
    "\n",
    "    if not has_data:\n",
    "        return pd.Series({'hand_fed_total': np.nan, 'batch_fed_total': np.nan})\n",
    "\n",
    "    return pd.Series({\n",
    "        'hand_fed_total': hand_total if has_hand else np.nan,\n",
    "        'batch_fed_total': batch_total if has_batch else np.nan\n",
    "    })\n",
    "\n",
    "# Apply function row-wise\n",
    "eavs[['hand_fed_total', 'batch_fed_total']] = eavs.apply(count_scanners, axis=1)\n"
   ]
  },
  {
   "cell_type": "code",
   "execution_count": 503,
   "id": "e0016ee3",
   "metadata": {},
   "outputs": [
    {
     "data": {
      "text/plain": [
       "bmd_total             222062.0\n",
       "dre_wo_vvpat_total     10642.0\n",
       "dre_w_vvpat_total      24604.0\n",
       "scanner_total          99712.0\n",
       "hand_fed_total         95830.0\n",
       "batch_fed_total         2126.0\n",
       "dtype: float64"
      ]
     },
     "execution_count": 503,
     "metadata": {},
     "output_type": "execute_result"
    }
   ],
   "source": [
    "eavs[eavs.columns[-6:]].sum()"
   ]
  },
  {
   "cell_type": "code",
   "execution_count": 408,
   "id": "410dd02f",
   "metadata": {},
   "outputs": [
    {
     "data": {
      "text/plain": [
       "np.float64(0.9561009677741196)"
      ]
     },
     "execution_count": 408,
     "metadata": {},
     "output_type": "execute_result"
    }
   ],
   "source": [
    "has_hand_fed_scanners = df['hand_fed_total'] > 0\n",
    "n_precincts = df[has_hand_fed_scanners]['D1a'].apply(safe_pos_float).sum()\n",
    "df[has_hand_fed_scanners]['hand_fed_total'].sum() / n_precincts\n"
   ]
  },
  {
   "cell_type": "code",
   "execution_count": 409,
   "id": "2cc11abf",
   "metadata": {},
   "outputs": [
    {
     "data": {
      "text/plain": [
       "np.float64(51811.12229539041)"
      ]
     },
     "execution_count": 409,
     "metadata": {},
     "output_type": "execute_result"
    }
   ],
   "source": [
    "has_batch_fed_scanners = df['batch_fed_total'] > 0\n",
    "n_voters = df[has_batch_fed_scanners]['A1a'].apply(safe_pos_float).sum()\n",
    "n_voters / df[has_batch_fed_scanners]['batch_fed_total'].sum()"
   ]
  },
  {
   "cell_type": "code",
   "execution_count": 410,
   "id": "c0723e3a",
   "metadata": {},
   "outputs": [
    {
     "data": {
      "text/plain": [
       "np.float64(2126.0)"
      ]
     },
     "execution_count": 410,
     "metadata": {},
     "output_type": "execute_result"
    }
   ],
   "source": [
    "df['batch_fed_total'].sum()"
   ]
  },
  {
   "cell_type": "code",
   "execution_count": 411,
   "id": "48fa7fc6",
   "metadata": {},
   "outputs": [
    {
     "data": {
      "text/plain": [
       "AccuVote-OS (Premier)                             NaN\n",
       "BallotNow (Hart)                                  NaN\n",
       "Chatsworth ACP (MicroVotes)                       NaN\n",
       "ClearCast (Clear Ballot)                          NaN\n",
       "ClearCount (Clear Ballot)                        49.0\n",
       "DS200 (ES&S)                                   2170.0\n",
       "DS300 (ES&S)                                    107.0\n",
       "DS450 (ES&S)                                    413.0\n",
       "DS850 (ES&S)                                    176.0\n",
       "DS950 (ES&S)                                     39.0\n",
       "Data not available                              378.0\n",
       "Does not apply                                    NaN\n",
       "ExpressVote Tabulator (ES&S)                     13.0\n",
       "ExpressVoteXL (ES&S)                              NaN\n",
       "IBML (Los Angeles County)                         NaN\n",
       "ImageCast Central/ICC (Dominion)                407.0\n",
       "ImageCast Evolution/ICE (Dominion)                NaN\n",
       "ImageCast Precinct/ICP (Dominion)                 NaN\n",
       "ImageCast Precint2/ICP2                          70.0\n",
       "M100 (ES&S)                                       NaN\n",
       "M650 (ES&S)                                       NaN\n",
       "OpenElect Freedom Vote Scan (Unisyn)              NaN\n",
       "OpenElect Voting Central Scan/OVCS (Unisyn)       NaN\n",
       "OpenElect Voting Optical Scan/OVO (Unisyn)        NaN\n",
       "Other (use text box to describe)                287.0\n",
       "Valid skip                                        NaN\n",
       "Verity Central (Hart)                            79.0\n",
       "Verity Scan (Hart)                                NaN\n",
       "eScan (Hart)                                      NaN\n",
       "Name: count, dtype: float64"
      ]
     },
     "execution_count": 411,
     "metadata": {},
     "output_type": "execute_result"
    }
   ],
   "source": [
    "has_scanner = df['F6a'] == 'Yes'\n",
    "\n",
    "df[has_scanner]['F6b_1'].value_counts() + df[has_scanner]['F6b_2'].value_counts() + df[has_scanner]['F6b_3'].value_counts()"
   ]
  },
  {
   "cell_type": "markdown",
   "id": "058e0f37",
   "metadata": {},
   "source": [
    "do batch-fed scanners as a function of number of mail-in ballots?"
   ]
  },
  {
   "cell_type": "code",
   "execution_count": 412,
   "id": "52a73980",
   "metadata": {},
   "outputs": [
    {
     "data": {
      "text/plain": [
       "np.float64(47629437.0)"
      ]
     },
     "execution_count": 412,
     "metadata": {},
     "output_type": "execute_result"
    }
   ],
   "source": [
    "pd.to_numeric(df['C8a'], errors='coerce').sum()"
   ]
  },
  {
   "cell_type": "code",
   "execution_count": 413,
   "id": "39e78b9e",
   "metadata": {},
   "outputs": [],
   "source": [
    "df[['F1b', 'F1d', 'F1e', 'F1f', 'F1g']] = df[['F1b', 'F1d', 'F1e', 'F1f', 'F1g']].fillna(0)"
   ]
  },
  {
   "cell_type": "code",
   "execution_count": 436,
   "id": "6bfc29f8",
   "metadata": {},
   "outputs": [
    {
     "data": {
      "text/plain": [
       "'60.8 million'"
      ]
     },
     "execution_count": 436,
     "metadata": {},
     "output_type": "execute_result"
    }
   ],
   "source": [
    "df['ballots_counted_centrally'] = (df.loc[df['F12a'] == 'Central location', 'F1b'] + # ballots cast in person on election day\n",
    "    df.loc[df['F12c'] == 'Central location', 'F1e'] + # provisional ballots\n",
    "    df.loc[df['F12d'] == 'Central location', 'F1f'] + # ballots cast early in person\n",
    "    df.loc[df['F12e'] == 'Central location', 'F1d'] + # mail ballots, jurisdictions that do not send mail ballots to all voters\n",
    "    df.loc[df['F12e'] == 'Central location', 'F1g']) #  mail ballots, jurisdictions that send mail ballots to all voters\n",
    "\n",
    "humanize.intword(df['ballots_counted_centrally'].sum())\n",
    "\n",
    "\n",
    "# F1b/e/f/g (ballots counted) * F12a/c/d/e"
   ]
  },
  {
   "cell_type": "code",
   "execution_count": null,
   "id": "93745ca3",
   "metadata": {},
   "outputs": [
    {
     "data": {
      "text/plain": [
       "State_Full\n",
       "NORTHERN MARIANA ISLANDS    100.000000\n",
       "HAWAII                      100.000000\n",
       "GUAM                         99.838193\n",
       "LOUISIANA                    99.795705\n",
       "WEST VIRGINIA                99.779773\n",
       "OKLAHOMA                     99.732087\n",
       "DELAWARE                     99.673191\n",
       "ILLINOIS                     99.558609\n",
       "WYOMING                      99.512767\n",
       "NEW YORK                     99.393537\n",
       "MARYLAND                     99.381705\n",
       "NEW MEXICO                   99.377642\n",
       "NEVADA                       99.248939\n",
       "COLORADO                     99.005355\n",
       "NEBRASKA                     97.631651\n",
       "CALIFORNIA                   83.172522\n",
       "SOUTH DAKOTA                 82.570530\n",
       "UTAH                         74.920785\n",
       "TEXAS                        70.363092\n",
       "KENTUCKY                     49.051815\n",
       "MISSOURI                     45.564064\n",
       "OHIO                         44.184359\n",
       "ARIZONA                      35.581653\n",
       "ARKANSAS                     22.799520\n",
       "FLORIDA                      18.397282\n",
       "INDIANA                       0.363495\n",
       "TENNESSEE                     0.000000\n",
       "VERMONT                       0.000000\n",
       "SOUTH CAROLINA                0.000000\n",
       "RHODE ISLAND                  0.000000\n",
       "VIRGINIA                      0.000000\n",
       "PUERTO RICO                   0.000000\n",
       "WASHINGTON                    0.000000\n",
       "PENNSYLVANIA                  0.000000\n",
       "OREGON                        0.000000\n",
       "WISCONSIN                     0.000000\n",
       "U.S. VIRGIN ISLANDS           0.000000\n",
       "ALABAMA                       0.000000\n",
       "NORTH DAKOTA                  0.000000\n",
       "NORTH CAROLINA                0.000000\n",
       "AMERICAN SAMOA                0.000000\n",
       "CONNECTICUT                   0.000000\n",
       "DISTRICT OF COLUMBIA          0.000000\n",
       "GEORGIA                       0.000000\n",
       "IDAHO                         0.000000\n",
       "IOWA                          0.000000\n",
       "KANSAS                        0.000000\n",
       "MAINE                         0.000000\n",
       "MASSACHUSETTS                 0.000000\n",
       "MICHIGAN                      0.000000\n",
       "MINNESOTA                     0.000000\n",
       "MISSISSIPPI                   0.000000\n",
       "ALASKA                        0.000000\n",
       "NEW HAMPSHIRE                 0.000000\n",
       "NEW JERSEY                    0.000000\n",
       "MONTANA                       0.000000\n",
       "dtype: float64"
      ]
     },
     "execution_count": 431,
     "metadata": {},
     "output_type": "execute_result"
    }
   ],
   "source": [
    "# % of total ballots (F1a) counted centrally. this is way off because jurisdictions are incorrectly reporting a central scan\n",
    "(df.groupby('State_Full')['ballots_counted_centrally'].sum().sort_values(ascending=False) / \n",
    "  df.groupby('State_Full')['F1a'].sum().sort_values(ascending=False)).sort_values(ascending=False)*100"
   ]
  },
  {
   "cell_type": "markdown",
   "id": "9dc68725",
   "metadata": {},
   "source": [
    "think about one factor where the number of batch-fed scanners would vary. or do we even have to do this since EAVS has the actual models? maybe EAVS is really the better baseline to work from, vs. VV."
   ]
  },
  {
   "cell_type": "code",
   "execution_count": null,
   "id": "577aff19",
   "metadata": {},
   "outputs": [
    {
     "data": {
      "text/plain": [
       "np.float64(6.3921419196409675)"
      ]
     },
     "metadata": {},
     "output_type": "display_data"
    }
   ],
   "source": [
    "df = eavs.copy()\n",
    "\n",
    "has_bmd = df['F5a'] == 'Yes'\n",
    "bmd_for_all_fips = vv[vv['Election Day Marking Method'] == 'Ballot Marking Devices for all voters']['FIPS code'].apply(int).unique()\n",
    "\n",
    "bmd_for_all = (df['F5a'] == 'Yes') & (df['FIPSCode'].isin(bmd_for_all_fips))\n",
    "n_bmds = df[bmd_for_all]['F5c_1'].apply(safe_pos_float).sum() # BMDs for all voters\n",
    "n_precincts = df[bmd_for_all]['D1a'].apply(safe_pos_float).sum()\n",
    "n_polling_places = df[bmd_for_all]['D2a'].apply(safe_pos_float).sum() # polling places total\n",
    "\n",
    "n_bmds / n_polling_places # BMDs per precinct in jurisdictions that use BMDs for all voters"
   ]
  },
  {
   "cell_type": "code",
   "execution_count": null,
   "id": "2b4ae5e9",
   "metadata": {},
   "outputs": [
    {
     "data": {
      "text/plain": [
       "np.float64(1.2365954069738605)"
      ]
     },
     "metadata": {},
     "output_type": "display_data"
    }
   ],
   "source": [
    "not_bmd_for_all = (df['F5a'] == 'Yes') & (~df['FIPSCode'].isin(bmd_for_all_fips))\n",
    "n_bmds = df[not_bmd_for_all]['F5c_1'].apply(safe_pos_float).sum() # BMDs for not all voters\n",
    "n_precincts = df[not_bmd_for_all]['D1a'].apply(safe_pos_float).sum()\n",
    "n_polling_places = df[not_bmd_for_all]['D2a'].apply(safe_pos_float).sum() # polling places total\n",
    "\n",
    "n_bmds / n_polling_places"
   ]
  }
 ],
 "metadata": {
  "kernelspec": {
   "display_name": ".venv",
   "language": "python",
   "name": "python3"
  },
  "language_info": {
   "codemirror_mode": {
    "name": "ipython",
    "version": 3
   },
   "file_extension": ".py",
   "mimetype": "text/x-python",
   "name": "python",
   "nbconvert_exporter": "python",
   "pygments_lexer": "ipython3",
   "version": "3.13.0"
  }
 },
 "nbformat": 4,
 "nbformat_minor": 5
}
