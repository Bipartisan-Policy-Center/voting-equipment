{
 "cells": [
  {
   "cell_type": "code",
   "execution_count": 132,
   "id": "17667ac2",
   "metadata": {},
   "outputs": [],
   "source": [
    "import pandas as pd\n",
    "import numpy as np\n",
    "import matplotlib.pyplot as plt"
   ]
  },
  {
   "cell_type": "code",
   "execution_count": null,
   "id": "9393ad0f",
   "metadata": {},
   "outputs": [],
   "source": [
    "# eavs = pd.read_csv('/Users/will/Repos/voting-equipment/eavs/2024_EAVS_for_Public_Release_nolabel_V1.csv')\n",
    "eavs = pd.read_excel('/Users/will/Repos/voting-equipment/eavs/2024_EAVS_for_Public_Release_V1_xlsx.xlsx')\n",
    "codebook = pd.read_excel('/Users/will/Repos/voting-equipment/eavs/2024_EAVS_Codebook.xlsx', index_col=0)\n",
    "\n",
    "vv = pd.read_csv('data/vv_capture_2025-07-23_14-12-58/cleaned_verifier_data.csv', converters={'FIPS code': str}).convert_dtypes()\n"
   ]
  },
  {
   "cell_type": "code",
   "execution_count": null,
   "id": "a6d8b2c9",
   "metadata": {},
   "outputs": [
    {
     "data": {
      "text/plain": [
       "Format                                                       Numeric\n",
       "Label                        F12c Tally Location Provisional Ballots\n",
       "ValidResponses                                                  5928\n",
       "ValidSkip                                                          0\n",
       "RespondedDoesNotApply                                            186\n",
       "RespondedDataNotAvailable                                        280\n",
       "Missing                                                           67\n",
       "Range                                                            0-3\n",
       "Name: F12c, dtype: object"
      ]
     },
     "execution_count": 14,
     "metadata": {},
     "output_type": "execute_result"
    }
   ],
   "source": [
    "# Simulation parameters:\n",
    "# - vvsg2_multiplier: applies a cost bump to all equipment types to reflect VVSG 2.x\n",
    "#       ACET says 20-50% more, but we've heard lower and higher estimates, so let's use 1.2.\n",
    "# - bmd_cost: base cost of Ballot Marking Devices. $3500 is what Brennan used,\n",
    "#       and aligns with Caulfield's findings for ExpressVote pricing.\n",
    "# - hand_fed_scanner_cost: cost of precinct-count scanners like DS200.\n",
    "#       $5750 replicates Caulfield's estimate for DS200:\n",
    "#       \"We present summary statistics on pricing trends for a number of different voting\n",
    "#        machines. The most common one in our sample—ES&S’s Model DS200 optical\n",
    "#        scanner—had a strikingly consistent mode and median unit price of $5,750, which\n",
    "#        is consistent with previous assessments\"\n",
    "#       $5000 is what Brennan used\n",
    "# - batch_fed_scanner_cost: cost of high-speed scanners like DS850.\n",
    "#       \"These scan­ners can cost anywhere between $50,000 and $100,000 each,\"\n",
    "#       according to https://verifiedvoting.org/voting-machines-at-risk-in-2022-a-joint-analysis-from-the-brennan-center-and-verified-voting/\n",
    "# - n_hand_fed_scanners_per_precinct: number of hand-fed scanners per precinct.\n",
    "# - n_bmds_per_precinct: number of BMDs per precinct.\n",
    "# - n_bmds_for_all_per_precinct: number of BMDs per precinct in jurisdictions\n",
    "#       that use BMDs or DREs for all voters.\n",
    "# - n_voters_per_batch_scanner: number of voters required per batch-fed scanner.\n",
    "#   could get some anchors and adjust this by rate of mail-in voting.\n",
    "\n",
    "parameters = {\n",
    "    \"vvsg2_multiplier\": 1.2,\n",
    "    \"bmd_cost\": 3500,\n",
    "    \"hand_fed_scanner_cost\": 5000,\n",
    "    \"batch_fed_scanner_cost\": 75000,\n",
    "    \"n_hand_fed_scanners_per_precinct\": 1,\n",
    "    \"n_bmds_per_precinct\": 2,\n",
    "    \"n_bmds_for_all_per_precinct\": 4,\n",
    "    \"n_voters_per_batch_scanner\": 10000,\n",
    "}\n"
   ]
  },
  {
   "cell_type": "markdown",
   "id": "828d02e7",
   "metadata": {},
   "source": [
    "goals:\n",
    "  - estimate number of hand fed scanners per polling place\n",
    "  - estimate number of BMDs per polling place, whether BMD for all or not\n",
    "  - estimate number of batch-fed scanners per registered voter\n",
    "\n",
    "sanity checks:\n",
    "  - are total number of registered voters in line with VV dataset?\n",
    "    - VV: 222 M; EAVS: 235 M. ✔️\n",
    "  - and what about precincts?\n",
    "    - VV: 184 K; EAVS: 177 K. ✔️"
   ]
  },
  {
   "cell_type": "code",
   "execution_count": 43,
   "id": "b962542c",
   "metadata": {},
   "outputs": [],
   "source": [
    "# convert to int if numeric\n",
    "def safe_pos_float(x):\n",
    "    try:\n",
    "        x = float(x)\n",
    "        if x > 0:\n",
    "            return x\n",
    "        else:\n",
    "            return 0\n",
    "    except ValueError:\n",
    "        return 0"
   ]
  },
  {
   "cell_type": "code",
   "execution_count": 47,
   "id": "c0fa342b",
   "metadata": {},
   "outputs": [
    {
     "data": {
      "text/plain": [
       "np.float64(234504358.0)"
      ]
     },
     "execution_count": 47,
     "metadata": {},
     "output_type": "execute_result"
    }
   ],
   "source": [
    "eavs['A1a'].apply(safe_pos_float).sum() # registered voters"
   ]
  },
  {
   "cell_type": "code",
   "execution_count": 46,
   "id": "2897b35c",
   "metadata": {},
   "outputs": [
    {
     "data": {
      "text/plain": [
       "np.float64(177708.0)"
      ]
     },
     "execution_count": 46,
     "metadata": {},
     "output_type": "execute_result"
    }
   ],
   "source": [
    "eavs['D1a'].apply(safe_pos_float).sum() # precincts"
   ]
  },
  {
   "cell_type": "code",
   "execution_count": 135,
   "id": "be1359ab",
   "metadata": {},
   "outputs": [
    {
     "data": {
      "text/plain": [
       "np.float64(2246241.0)"
      ]
     },
     "execution_count": 135,
     "metadata": {},
     "output_type": "execute_result"
    }
   ],
   "source": [
    "eavs['A4k'].apply(safe_pos_float).sum() # polling places total"
   ]
  },
  {
   "cell_type": "code",
   "execution_count": 137,
   "id": "77d33043",
   "metadata": {},
   "outputs": [
    {
     "data": {
      "text/plain": [
       "np.float64(95815.0)"
      ]
     },
     "execution_count": 137,
     "metadata": {},
     "output_type": "execute_result"
    }
   ],
   "source": [
    "eavs['D2a'].apply(safe_pos_float).sum() # polling places 2024 general election"
   ]
  },
  {
   "cell_type": "code",
   "execution_count": null,
   "id": "2095de3f",
   "metadata": {},
   "outputs": [
    {
     "data": {
      "text/plain": [
       "np.float64(94936.0)"
      ]
     },
     "execution_count": 138,
     "metadata": {},
     "output_type": "execute_result"
    }
   ],
   "source": [
    "eavs['D3a'].apply(safe_pos_float).sum() # polling places 2024 elecion day"
   ]
  },
  {
   "cell_type": "code",
   "execution_count": null,
   "id": "7237f4e4",
   "metadata": {},
   "outputs": [],
   "source": [
    "n_bmds = eavs[bmd_for_all]['F5c_1'].apply(safe_pos_float).sum() # BMDs for all voters\n",
    "n_precincts = eavs[bmd_for_all]['D1a'].apply(safe_pos_float).sum()\n"
   ]
  },
  {
   "cell_type": "code",
   "execution_count": 139,
   "id": "7d30a7d3",
   "metadata": {},
   "outputs": [],
   "source": [
    "df = eavs.copy()\n",
    "def coerce_column(col):\n",
    "    col = pd.to_numeric(col, errors='coerce')\n",
    "    col.loc[col < 0] = np.nan  # set negative values to NaN\n",
    "    return col\n",
    "\n",
    "df['F5c_1'] = coerce_column(df['F5c_1'])\n",
    "df['D1a'] = coerce_column(df['D1a'])\n",
    "df['A1a'] = coerce_column(df['A1a'])\n",
    "df['D2a'] = coerce_column(df['D2a'])\n",
    "# df['F5c_1'] = pd.to_numeric(df['F5c_1'], errors='coerce')\n",
    "# set negative values to nan\n",
    "# df.loc[df['F5c_1']<0, 'F5c_1'] = np.nan\n"
   ]
  },
  {
   "cell_type": "code",
   "execution_count": 144,
   "id": "dca6c12f",
   "metadata": {},
   "outputs": [
    {
     "data": {
      "text/plain": [
       "np.float64(3.5466184312527895)"
      ]
     },
     "execution_count": 144,
     "metadata": {},
     "output_type": "execute_result"
    }
   ],
   "source": [
    "has_bmd = df['F5a'] == 'Yes'\n",
    "bmd_for_all_fips = vv[vv['Election Day Marking Method'] == 'Ballot Marking Devices for all voters']['FIPS code'].apply(int).unique()\n",
    "\n",
    "bmd_for_all = (df['F5a'] == 'Yes') & (df['FIPSCode'].isin(bmd_for_all_fips))\n",
    "n_bmds = df[bmd_for_all]['F5c_1'].apply(safe_pos_float).sum() # BMDs for all voters\n",
    "n_precincts = df[bmd_for_all]['D1a'].apply(safe_pos_float).sum()\n",
    "n_polling_places = df[bmd_for_all]['D2a'].apply(safe_pos_float).sum() # polling places total\n",
    "\n",
    "n_bmds / n_precincts # BMDs per precinct in jurisdictions that use BMDs for all voters"
   ]
  },
  {
   "cell_type": "code",
   "execution_count": 145,
   "id": "242f0969",
   "metadata": {},
   "outputs": [
    {
     "data": {
      "text/plain": [
       "np.float64(0.6471214244925505)"
      ]
     },
     "execution_count": 145,
     "metadata": {},
     "output_type": "execute_result"
    }
   ],
   "source": [
    "not_bmd_for_all = (df['F5a'] == 'Yes') & (~df['FIPSCode'].isin(bmd_for_all_fips))\n",
    "n_bmds = df[not_bmd_for_all]['F5c_1'].apply(safe_pos_float).sum() # BMDs for not all voters\n",
    "n_precincts = df[not_bmd_for_all]['D1a'].apply(safe_pos_float).sum()\n",
    "n_polling_places = df[not_bmd_for_all]['D2a'].apply(safe_pos_float).sum() # polling places total\n",
    "\n",
    "n_bmds / n_precincts"
   ]
  },
  {
   "cell_type": "code",
   "execution_count": null,
   "id": "cbf2dcb1",
   "metadata": {},
   "outputs": [],
   "source": [
    "# need to sort models by which ones are central scanners"
   ]
  },
  {
   "cell_type": "code",
   "execution_count": null,
   "id": "415d7687",
   "metadata": {},
   "outputs": [],
   "source": [
    "df"
   ]
  },
  {
   "cell_type": "code",
   "execution_count": 149,
   "id": "410dd02f",
   "metadata": {},
   "outputs": [
    {
     "data": {
      "text/plain": [
       "F6b_1\n",
       "DS200 (ES&S)                                   2154\n",
       "ImageCast Precinct/ICP (Dominion)               449\n",
       "Verity Scan (Hart)                              304\n",
       "Other (use text box to describe)                283\n",
       "AccuVote-OS (Premier)                           179\n",
       "DS450 (ES&S)                                    160\n",
       "ImageCast Central/ICC (Dominion)                136\n",
       "Data not available                              119\n",
       "ImageCast Evolution/ICE (Dominion)              107\n",
       "DS300 (ES&S)                                     99\n",
       "OpenElect Voting Optical Scan/OVO (Unisyn)       94\n",
       "eScan (Hart)                                     91\n",
       "ClearCast (Clear Ballot)                         90\n",
       "ImageCast Precint2/ICP2                          68\n",
       "OpenElect Freedom Vote Scan (Unisyn)             58\n",
       "Chatsworth ACP (MicroVotes)                      56\n",
       "ClearCount (Clear Ballot)                        39\n",
       "DS850 (ES&S)                                     39\n",
       "Verity Central (Hart)                            33\n",
       "DS950 (ES&S)                                     13\n",
       "ExpressVote Tabulator (ES&S)                     11\n",
       "M100 (ES&S)                                       6\n",
       "M650 (ES&S)                                       4\n",
       "OpenElect Voting Central Scan/OVCS (Unisyn)       4\n",
       "ExpressVoteXL (ES&S)                              4\n",
       "IBML (Los Angeles County)                         1\n",
       "Name: count, dtype: int64"
      ]
     },
     "execution_count": 149,
     "metadata": {},
     "output_type": "execute_result"
    }
   ],
   "source": [
    "has_scanner = df['F6a'] == 'Yes'\n",
    "df[has_scanner]['F6b_1'].value_counts()"
   ]
  },
  {
   "cell_type": "code",
   "execution_count": 162,
   "id": "48fa7fc6",
   "metadata": {},
   "outputs": [
    {
     "data": {
      "text/plain": [
       "F6b_2\n",
       "Does not apply                                 1922\n",
       "ImageCast Central/ICC (Dominion)                270\n",
       "DS450 (ES&S)                                    241\n",
       "DS850 (ES&S)                                    123\n",
       "Data not available                              103\n",
       "Valid skip                                       94\n",
       "BallotNow (Hart)                                 77\n",
       "Verity Central (Hart)                            45\n",
       "DS950 (ES&S)                                     20\n",
       "DS200 (ES&S)                                     14\n",
       "OpenElect Voting Central Scan/OVCS (Unisyn)      13\n",
       "ClearCount (Clear Ballot)                         9\n",
       "DS300 (ES&S)                                      7\n",
       "ImageCast Evolution/ICE (Dominion)                7\n",
       "Verity Scan (Hart)                                6\n",
       "OpenElect Freedom Vote Scan (Unisyn)              6\n",
       "Other (use text box to describe)                  3\n",
       "ClearCast (Clear Ballot)                          2\n",
       "ExpressVote Tabulator (ES&S)                      1\n",
       "M100 (ES&S)                                       1\n",
       "ImageCast Precint2/ICP2                           1\n",
       "ExpressVoteXL (ES&S)                              1\n",
       "M650 (ES&S)                                       1\n",
       "Name: count, dtype: int64"
      ]
     },
     "execution_count": 162,
     "metadata": {},
     "output_type": "execute_result"
    }
   ],
   "source": [
    "df[has_scanner]['F6b_2'].value_counts()"
   ]
  },
  {
   "cell_type": "code",
   "execution_count": 165,
   "id": "44f4fd96",
   "metadata": {},
   "outputs": [
    {
     "data": {
      "text/plain": [
       "AccuVote-OS (Premier)                             NaN\n",
       "BallotNow (Hart)                                  NaN\n",
       "Chatsworth ACP (MicroVotes)                       NaN\n",
       "ClearCast (Clear Ballot)                          NaN\n",
       "ClearCount (Clear Ballot)                        49.0\n",
       "DS200 (ES&S)                                   2170.0\n",
       "DS300 (ES&S)                                    107.0\n",
       "DS450 (ES&S)                                    413.0\n",
       "DS850 (ES&S)                                    176.0\n",
       "DS950 (ES&S)                                     39.0\n",
       "Data not available                              378.0\n",
       "Does not apply                                    NaN\n",
       "ExpressVote Tabulator (ES&S)                     13.0\n",
       "ExpressVoteXL (ES&S)                              NaN\n",
       "IBML (Los Angeles County)                         NaN\n",
       "ImageCast Central/ICC (Dominion)                407.0\n",
       "ImageCast Evolution/ICE (Dominion)                NaN\n",
       "ImageCast Precinct/ICP (Dominion)                 NaN\n",
       "ImageCast Precint2/ICP2                          70.0\n",
       "M100 (ES&S)                                       NaN\n",
       "M650 (ES&S)                                       NaN\n",
       "OpenElect Freedom Vote Scan (Unisyn)              NaN\n",
       "OpenElect Voting Central Scan/OVCS (Unisyn)       NaN\n",
       "OpenElect Voting Optical Scan/OVO (Unisyn)        NaN\n",
       "Other (use text box to describe)                287.0\n",
       "Valid skip                                        NaN\n",
       "Verity Central (Hart)                            79.0\n",
       "Verity Scan (Hart)                                NaN\n",
       "eScan (Hart)                                      NaN\n",
       "Name: count, dtype: float64"
      ]
     },
     "execution_count": 165,
     "metadata": {},
     "output_type": "execute_result"
    }
   ],
   "source": [
    "has_scanner = df['F6a'] == 'Yes'\n",
    "df[has_scanner]['F6b_1'].value_counts() + df[has_scanner]['F6b_2'].value_counts() + df[has_scanner]['F6b_3'].value_counts()"
   ]
  }
 ],
 "metadata": {
  "kernelspec": {
   "display_name": ".venv",
   "language": "python",
   "name": "python3"
  },
  "language_info": {
   "codemirror_mode": {
    "name": "ipython",
    "version": 3
   },
   "file_extension": ".py",
   "mimetype": "text/x-python",
   "name": "python",
   "nbconvert_exporter": "python",
   "pygments_lexer": "ipython3",
   "version": "3.13.0"
  }
 },
 "nbformat": 4,
 "nbformat_minor": 5
}
