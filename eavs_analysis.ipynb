{
 "cells": [
  {
   "cell_type": "code",
   "execution_count": 1,
   "id": "17667ac2",
   "metadata": {},
   "outputs": [],
   "source": [
    "import pandas as pd\n",
    "import numpy as np\n",
    "import matplotlib.pyplot as plt\n",
    "import humanize"
   ]
  },
  {
   "cell_type": "code",
   "execution_count": 40,
   "id": "9393ad0f",
   "metadata": {},
   "outputs": [
    {
     "name": "stderr",
     "output_type": "stream",
     "text": [
      "/var/folders/2f/3k2b0y_s79n84y37bcnb5t5h0000gn/T/ipykernel_28141/3564752629.py:5: DtypeWarning: Columns (19) have mixed types. Specify dtype option on import or set low_memory=False.\n",
      "  vv = pd.read_csv('data/vv_capture_2025-07-23_14-12-58/cleaned_verifier_data.csv', converters={'FIPS code': str}).convert_dtypes()\n"
     ]
    }
   ],
   "source": [
    "# eavs = pd.read_csv('/Users/will/Repos/voting-equipment/eavs/2024_EAVS_for_Public_Release_nolabel_V1.csv')\n",
    "eavs = pd.read_excel('/Users/will/Repos/voting-equipment/eavs/2024_EAVS_for_Public_Release_V1_xlsx.xlsx')\n",
    "codebook = pd.read_excel('/Users/will/Repos/voting-equipment/eavs/2024_EAVS_Codebook.xlsx', index_col=0)\n",
    "\n",
    "vv = pd.read_csv('data/vv_capture_2025-07-23_14-12-58/cleaned_verifier_data.csv', converters={'FIPS code': str}).convert_dtypes()\n",
    "vv = vv[vv['Year'] == 2026]\n"
   ]
  },
  {
   "cell_type": "code",
   "execution_count": 41,
   "id": "6c627595",
   "metadata": {},
   "outputs": [
    {
     "data": {
      "text/plain": [
       "Election Day Marking Method\n",
       "Hand marked paper ballots and BMDs                                                                 22151\n",
       "Ballot Marking Devices for all voters                                                               3364\n",
       "DREs with VVPAT for all voters                                                                       588\n",
       "DREs without VVPAT for all voters                                                                    458\n",
       "Hand marked paper ballots and DREs with VVPAT                                                        437\n",
       "Hand marked paper ballots; Direct recording assistive interface without VVPAT for accessibility      385\n",
       "Hand marked paper ballots and DREs without VVPAT                                                      10\n",
       "Hand marked paper ballots, BMDs and DREs with VVPAT                                                    8\n",
       "Hand marked paper ballots, BMDs and DREs without VVPAT                                                 8\n",
       "Hand marked paper ballots, No accessible equipment                                                     2\n",
       "Name: count, dtype: Int64"
      ]
     },
     "execution_count": 41,
     "metadata": {},
     "output_type": "execute_result"
    }
   ],
   "source": [
    "vv['Election Day Marking Method'].value_counts()"
   ]
  },
  {
   "cell_type": "code",
   "execution_count": 42,
   "id": "c5fbe5ac",
   "metadata": {},
   "outputs": [],
   "source": [
    "bmd_for_all = ['Ballot Marking Devices for all voters']\n",
    "dre_for_all = ['DREs with VVPAT for all voters', 'DREs without VVPAT for all voters']\n",
    "\n",
    "\n",
    "bmd_for_all_fips = vv[vv['Election Day Marking Method'].isin(bmd_for_all)]['FIPS code'].apply(int).unique()\n",
    "eavs['bmd_for_all'] = eavs['FIPSCode'].isin(bmd_for_all_fips)\n",
    "\n",
    "dre_for_all_fips = vv[vv['Election Day Marking Method'].isin(dre_for_all)]['FIPS code'].apply(int).unique()\n",
    "eavs['dre_for_all'] = eavs['FIPSCode'].isin(dre_for_all_fips)\n",
    "\n",
    "eavs['bmd_or_dre_for_all'] = eavs['bmd_for_all'] | eavs['dre_for_all']"
   ]
  },
  {
   "cell_type": "markdown",
   "id": "828d02e7",
   "metadata": {},
   "source": [
    "goals:\n",
    "  - estimate number of hand fed scanners per polling place\n",
    "  - estimate number of BMDs per polling place, whether BMD for all or not\n",
    "  - estimate number of batch-fed scanners per registered voter\n",
    "\n",
    "sanity checks:\n",
    "  - are total number of registered voters in line with VV dataset?\n",
    "    - VV: 222 M; EAVS: 235 M. ✔️\n",
    "  - and what about precincts?\n",
    "    - VV: 184 K; EAVS: 178 K. ✔️\n",
    "    - but why does VV use precincts and not polling places? there are 95.8 k polling places.\n",
    "\n",
    "\n",
    "update: maybe just get amounts of equipment directly from EAVS"
   ]
  },
  {
   "cell_type": "markdown",
   "id": "7cbcfeb6",
   "metadata": {},
   "source": [
    "\n",
    "EAVS question format on equipment\n",
    "\n",
    "F[#] Codes:\n",
    "\n",
    "F3 → DRE without VVPAT\n",
    "\n",
    "F4 → DRE with VVPAT\n",
    "\n",
    "F5 → Ballot Marking Device (BMD)\n",
    "\n",
    "F6 → Scanner\n",
    "```\n",
    "F[#] — Device Category\n",
    "├── a           → Is this device type used? (Yes/No)\n",
    "├── b_1         → Model of first device (if any)\n",
    "│   └── c_1     → Quantity of that model\n",
    "├── b_2         → Model of second device (if any)\n",
    "│   └── c_2     → Quantity of that model\n",
    "└── b_3         → Model of third device (if any)\n",
    "    └── c_3     → Quantity of that model\n",
    "```"
   ]
  },
  {
   "cell_type": "code",
   "execution_count": 43,
   "id": "eb769488",
   "metadata": {},
   "outputs": [],
   "source": [
    "# coerce non-equipment columns\n",
    "\n",
    "# convert to int if numeric\n",
    "def safe_pos_float(x):\n",
    "    try:\n",
    "        x = float(x)\n",
    "        if x > 0:\n",
    "            return x\n",
    "        else:\n",
    "            return 0\n",
    "    except ValueError:\n",
    "        return 0\n",
    "    \n",
    "def coerce_column(col):\n",
    "    col = pd.to_numeric(col, errors='coerce')\n",
    "    col.loc[col < 0] = np.nan  # set negative values to NaN\n",
    "    return col\n",
    "\n",
    "numeric_columns = ['D1a', 'A1a', 'D2a', 'F1a', 'F1b', 'F1d', 'F1e', 'F1f', 'F1g']\n",
    "for col in numeric_columns:\n",
    "    eavs[col] = coerce_column(eavs[col])\n",
    "\n",
    "# Coerce equipment count columns\n",
    "for equipment in ['3', '4', '5', '6']:\n",
    "    for i in range(1, 4):\n",
    "        col = f'F{equipment}c_{i}'\n",
    "        if col in eavs.columns:\n",
    "            eavs[col] = coerce_column(eavs[col])\n",
    "\n"
   ]
  },
  {
   "cell_type": "code",
   "execution_count": 44,
   "id": "ce21dacc",
   "metadata": {},
   "outputs": [
    {
     "name": "stdout",
     "output_type": "stream",
     "text": [
      "234.5 million registered voters\n",
      "158.2 million ballots cast\n",
      "177.7 thousand precincts\n",
      "2.2 million polling places total\n",
      "95.8 thousand polling places 2024 general election\n",
      "94.9 thousand polling places 2024 election day\n"
     ]
    }
   ],
   "source": [
    "print(f'{humanize.intword(eavs[\"A1a\"].apply(safe_pos_float).sum())} registered voters')\n",
    "print(f'{humanize.intword(eavs[\"F1a\"].apply(safe_pos_float).sum())} ballots cast')\n",
    "print(f'{humanize.intword(eavs[\"D1a\"].apply(safe_pos_float).sum())} precincts')\n",
    "print(f'{humanize.intword(eavs[\"A4k\"].apply(safe_pos_float).sum())} polling places total')\n",
    "print(f'{humanize.intword(eavs[\"D2a\"].apply(safe_pos_float).sum())} polling places 2024 general election')\n",
    "print(f'{humanize.intword(eavs[\"D3a\"].apply(safe_pos_float).sum())} polling places 2024 election day')"
   ]
  },
  {
   "cell_type": "code",
   "execution_count": 45,
   "id": "0a0468b6",
   "metadata": {},
   "outputs": [],
   "source": [
    "# indicate whether scanners are hand-fed or batch-fed\n",
    "\n",
    "scanners = {\n",
    "    'AccuVote-OS (Premier)': 'hand-fed',\n",
    "    'BallotNow (Hart)': 'batch-fed',\n",
    "    'Chatsworth ACP (MicroVotes)': 'hand-fed',\n",
    "    'ClearCast (Clear Ballot)': 'hand-fed',\n",
    "    'ClearCount (Clear Ballot)': 'batch-fed',\n",
    "    'DS200 (ES&S)': 'hand-fed',\n",
    "    'DS300 (ES&S)': 'hand-fed',\n",
    "    'DS450 (ES&S)': 'batch-fed',\n",
    "    'DS850 (ES&S)': 'batch-fed',\n",
    "    'DS950 (ES&S)': 'batch-fed',\n",
    "    'ExpressVote Tabulator (ES&S)': 'hand-fed',\n",
    "    'ExpressVoteXL (ES&S)': 'hand-fed',\n",
    "    'IBML (Los Angeles County)': 'batch-fed',\n",
    "    'ImageCast Central/ICC (Dominion)': 'batch-fed',\n",
    "    'ImageCast Evolution/ICE (Dominion)': 'hand-fed',\n",
    "    'ImageCast Precinct/ICP (Dominion)': 'hand-fed',\n",
    "    'ImageCast Precint2/ICP2': 'hand-fed',\n",
    "    'M100 (ES&S)': 'hand-fed',\n",
    "    'M650 (ES&S)': 'batch-fed',\n",
    "    'OpenElect Freedom Vote Scan (Unisyn)': 'hand-fed',\n",
    "    'OpenElect Voting Central Scan/OVCS (Unisyn)': 'batch-fed',\n",
    "    'OpenElect Voting Optical Scan/OVO (Unisyn)': 'hand-fed',\n",
    "    'Verity Central (Hart)': 'batch-fed',\n",
    "    'Verity Scan (Hart)': 'hand-fed',\n",
    "    'eScan (Hart)': 'hand-fed'\n",
    "}\n"
   ]
  },
  {
   "cell_type": "code",
   "execution_count": 46,
   "id": "98986e59",
   "metadata": {},
   "outputs": [
    {
     "data": {
      "text/plain": [
       "State_Full\n",
       "NORTH DAKOTA                    0.0\n",
       "AMERICAN SAMOA              15948.0\n",
       "NORTHERN MARIANA ISLANDS    19329.0\n",
       "U.S. VIRGIN ISLANDS         56304.0\n",
       "Name: A1a, dtype: float64"
      ]
     },
     "execution_count": 46,
     "metadata": {},
     "output_type": "execute_result"
    }
   ],
   "source": [
    "eavs.groupby('State_Full')['A1a'].sum().sort_values(ascending=True).head(4)\n",
    "\n",
    "# ND is the only state without registered voters"
   ]
  },
  {
   "cell_type": "code",
   "execution_count": 47,
   "id": "006c8f9b",
   "metadata": {},
   "outputs": [],
   "source": [
    "# impute registered voters for North Dakota based on overall turnout, and number of ballots cast in ND\n",
    "\n",
    "nd = eavs['State_Full'] == 'NORTH DAKOTA'\n",
    "\n",
    "turnout = eavs.loc[~nd, 'F1a'].sum() / eavs.loc[~nd, 'A1a'].sum()\n",
    "\n",
    "eavs.loc[nd, 'A1a'] = round(eavs.loc[nd, 'F1a'] * turnout)"
   ]
  },
  {
   "cell_type": "code",
   "execution_count": 48,
   "id": "b2671707",
   "metadata": {},
   "outputs": [],
   "source": [
    "# count  devices for each type of equipment\n",
    "\n",
    "def count_devices(row, prefix):\n",
    "    total = 0\n",
    "    has_data = False\n",
    "\n",
    "    for i in range(1, 4):\n",
    "        model = row.get(f'{prefix}b_{i}')\n",
    "        count = row.get(f'{prefix}c_{i}')\n",
    "        if pd.isna(model) or pd.isna(count):\n",
    "            continue\n",
    "        has_data = True\n",
    "        total += count\n",
    "\n",
    "    if not has_data:\n",
    "        return np.nan\n",
    "    return total\n",
    "\n",
    "equipment_codes = {'dre_wo_vvpat': 'F3',\n",
    "                   'dre_w_vvpat': 'F4',\n",
    "                   'bmd': 'F5',\n",
    "                   'scanner': 'F6'}\n",
    "\n",
    "for equipment, prefix in equipment_codes.items():\n",
    "    eavs[f'{equipment}_total'] = eavs.apply(lambda row: count_devices(row, prefix), axis=1)\n",
    "\n",
    "# count hand-fed and batch-fed totals for a row\n",
    "def count_scanners(row):\n",
    "    hand_total = 0\n",
    "    batch_total = 0\n",
    "    has_hand = False\n",
    "    has_batch = False\n",
    "    has_data = False\n",
    "\n",
    "    for i in range(1, 4):\n",
    "        model = row.get(f'F6b_{i}')\n",
    "        count = row.get(f'F6c_{i}')\n",
    "        if pd.isna(model) or pd.isna(count):\n",
    "            continue\n",
    "        has_data = True\n",
    "\n",
    "        feed_type = scanners.get(model, 'unknown')\n",
    "        if feed_type == 'unknown':\n",
    "            return pd.Series({'hand_fed_total': np.nan, 'batch_fed_total': np.nan})\n",
    "        elif feed_type == 'hand-fed':\n",
    "            hand_total += count\n",
    "            has_hand = True\n",
    "        elif feed_type == 'batch-fed':\n",
    "            batch_total += count\n",
    "            has_batch = True\n",
    "\n",
    "    if not has_data:\n",
    "        return pd.Series({'hand_fed_total': np.nan, 'batch_fed_total': np.nan})\n",
    "\n",
    "    return pd.Series({\n",
    "        'hand_fed_total': hand_total if has_hand else np.nan,\n",
    "        'batch_fed_total': batch_total if has_batch else np.nan\n",
    "    })\n",
    "\n",
    "# Apply function row-wise\n",
    "eavs[['hand_fed_total', 'batch_fed_total']] = eavs.apply(count_scanners, axis=1)\n"
   ]
  },
  {
   "cell_type": "code",
   "execution_count": 49,
   "id": "7ac2eb7c",
   "metadata": {},
   "outputs": [],
   "source": [
    "def incomplete_equipment_data(row):\n",
    "    incomplete = False\n",
    "    # identifies rows where equipment is marked as 'Yes' but no count is provided\n",
    "\n",
    "    for equipment in ['3', '4', '5', '6']:\n",
    "        if row[f'F{equipment}a'] == 'Yes':\n",
    "            # only check the first model for each equipment type\n",
    "            if pd.isna(row[f'F{equipment}c_1']): # to require model, also use pd.isna(row[f'F{equipment}b_1'])\n",
    "                incomplete = True\n",
    "\n",
    "    return incomplete\n",
    "\n",
    "eavs['incomplete_equipment'] = eavs.apply(incomplete_equipment_data, axis=1)\n",
    "\n",
    "equipment_counts = [key + '_total' for key in equipment_codes.keys()][:-1] + ['hand_fed_total', 'batch_fed_total']\n",
    "eavs['total_equipment_counts'] = eavs[equipment_counts].sum(axis=1)\n",
    "\n",
    "eavs['equipment_per_voter'] = eavs['total_equipment_counts'] / eavs['A1a']"
   ]
  },
  {
   "cell_type": "markdown",
   "id": "fd494d27",
   "metadata": {},
   "source": [
    "## Describe effect of the filters"
   ]
  },
  {
   "cell_type": "code",
   "execution_count": null,
   "id": "a56bc7e7",
   "metadata": {},
   "outputs": [
    {
     "data": {
      "text/plain": [
       "incomplete_equipment\n",
       "False    4018\n",
       "True     2443\n",
       "Name: count, dtype: int64"
      ]
     },
     "execution_count": 81,
     "metadata": {},
     "output_type": "execute_result"
    }
   ],
   "source": [
    "eavs['incomplete_equipment'].value_counts()"
   ]
  },
  {
   "cell_type": "code",
   "execution_count": 82,
   "id": "56b1f5ee",
   "metadata": {},
   "outputs": [
    {
     "data": {
      "text/plain": [
       "np.float64(35.333352)"
      ]
     },
     "execution_count": 82,
     "metadata": {},
     "output_type": "execute_result"
    }
   ],
   "source": [
    "eavs[eavs['incomplete_equipment']]['A1a'].sum()/1e6"
   ]
  },
  {
   "cell_type": "code",
   "execution_count": 84,
   "id": "2caa084b",
   "metadata": {},
   "outputs": [
    {
     "data": {
      "text/plain": [
       "401"
      ]
     },
     "execution_count": 84,
     "metadata": {},
     "output_type": "execute_result"
    }
   ],
   "source": [
    "len(eavs[(eavs['total_equipment_counts']==0) & (~eavs['incomplete_equipment'])])"
   ]
  },
  {
   "cell_type": "code",
   "execution_count": 85,
   "id": "1689b57b",
   "metadata": {},
   "outputs": [
    {
     "data": {
      "text/plain": [
       "np.float64(4.936589)"
      ]
     },
     "execution_count": 85,
     "metadata": {},
     "output_type": "execute_result"
    }
   ],
   "source": [
    "eavs[(eavs['total_equipment_counts']==0) & (~eavs['incomplete_equipment'])]['A1a'].sum()/1e6"
   ]
  },
  {
   "cell_type": "code",
   "execution_count": 87,
   "id": "3274140a",
   "metadata": {},
   "outputs": [
    {
     "data": {
      "text/plain": [
       "190"
      ]
     },
     "execution_count": 87,
     "metadata": {},
     "output_type": "execute_result"
    }
   ],
   "source": [
    "len(eavs[eavs['dre_for_all'] & ~((eavs['total_equipment_counts']==0) & (~eavs['incomplete_equipment']))])"
   ]
  },
  {
   "cell_type": "code",
   "execution_count": 88,
   "id": "ece525a5",
   "metadata": {},
   "outputs": [
    {
     "data": {
      "text/plain": [
       "np.float64(11.272241)"
      ]
     },
     "execution_count": 88,
     "metadata": {},
     "output_type": "execute_result"
    }
   ],
   "source": [
    "eavs[eavs['dre_for_all'] & ~((eavs['total_equipment_counts']==0) & (~eavs['incomplete_equipment']))]['A1a'].sum()/1e6"
   ]
  },
  {
   "cell_type": "code",
   "execution_count": 70,
   "id": "81225f3a",
   "metadata": {},
   "outputs": [
    {
     "data": {
      "text/plain": [
       "False    6060\n",
       "True      401\n",
       "Name: count, dtype: int64"
      ]
     },
     "execution_count": 70,
     "metadata": {},
     "output_type": "execute_result"
    }
   ],
   "source": [
    "((eavs['total_equipment_counts']==0) & (~eavs['incomplete_equipment'])).value_counts()"
   ]
  },
  {
   "cell_type": "code",
   "execution_count": 80,
   "id": "067af09f",
   "metadata": {},
   "outputs": [
    {
     "data": {
      "text/plain": [
       "total_equipment_counts\n",
       "False    3798\n",
       "True     2663\n",
       "Name: count, dtype: int64"
      ]
     },
     "execution_count": 80,
     "metadata": {},
     "output_type": "execute_result"
    }
   ],
   "source": [
    "(eavs['total_equipment_counts']==0).value_counts()"
   ]
  },
  {
   "cell_type": "code",
   "execution_count": 76,
   "id": "84b78683",
   "metadata": {},
   "outputs": [
    {
     "data": {
      "text/plain": [
       "np.float64(23.55327)"
      ]
     },
     "execution_count": 76,
     "metadata": {},
     "output_type": "execute_result"
    }
   ],
   "source": [
    "eavs[eavs['total_equipment_counts'] == 0]['A1a'].sum()/1e6"
   ]
  },
  {
   "cell_type": "code",
   "execution_count": null,
   "id": "d0163bee",
   "metadata": {},
   "outputs": [],
   "source": [
    "eavs['use_for_analysis'] = (eavs['total_equipment_counts'] > 0) & ~eavs['incomplete_equipment'] & ~eavs['dre_for_all']\n",
    "eq = eavs[eavs['use_for_analysis']].copy()\n",
    "\n",
    "# filter the data only to those with complete equipment data and non-zero registered voters and not DRE for all"
   ]
  },
  {
   "cell_type": "code",
   "execution_count": null,
   "id": "6fbbef6b",
   "metadata": {},
   "outputs": [
    {
     "data": {
      "text/plain": [
       "'183.2 million'"
      ]
     },
     "metadata": {},
     "output_type": "display_data"
    }
   ],
   "source": [
    "humanize.intword(eavs[eavs['use_for_analysis']]['A1a'].sum()) # number of registered voters in states with incomplete equipment reports"
   ]
  },
  {
   "cell_type": "code",
   "execution_count": null,
   "id": "ce31af75",
   "metadata": {},
   "outputs": [
    {
     "data": {
      "text/plain": [
       "'51.5 million'"
      ]
     },
     "metadata": {},
     "output_type": "display_data"
    }
   ],
   "source": [
    "humanize.intword(eavs[~eavs['use_for_analysis']]['A1a'].sum()) # number of registered voters in states with incomplete equipment reports"
   ]
  },
  {
   "cell_type": "code",
   "execution_count": 67,
   "id": "64d28bc4",
   "metadata": {},
   "outputs": [
    {
     "data": {
      "text/plain": [
       "use_for_analysis\n",
       "True     3427\n",
       "False    3034\n",
       "Name: count, dtype: int64"
      ]
     },
     "execution_count": 67,
     "metadata": {},
     "output_type": "execute_result"
    }
   ],
   "source": [
    "eavs['use_for_analysis'].value_counts()"
   ]
  },
  {
   "cell_type": "code",
   "execution_count": 26,
   "id": "f16410a7",
   "metadata": {},
   "outputs": [
    {
     "data": {
      "text/html": [
       "<div>\n",
       "<style scoped>\n",
       "    .dataframe tbody tr th:only-of-type {\n",
       "        vertical-align: middle;\n",
       "    }\n",
       "\n",
       "    .dataframe tbody tr th {\n",
       "        vertical-align: top;\n",
       "    }\n",
       "\n",
       "    .dataframe thead th {\n",
       "        text-align: right;\n",
       "    }\n",
       "</style>\n",
       "<table border=\"1\" class=\"dataframe\">\n",
       "  <thead>\n",
       "    <tr style=\"text-align: right;\">\n",
       "      <th></th>\n",
       "      <th>dre_wo_vvpat_total</th>\n",
       "      <th>dre_w_vvpat_total</th>\n",
       "      <th>bmd_total</th>\n",
       "      <th>hand_fed_total</th>\n",
       "      <th>batch_fed_total</th>\n",
       "    </tr>\n",
       "    <tr>\n",
       "      <th>bmd_for_all</th>\n",
       "      <th></th>\n",
       "      <th></th>\n",
       "      <th></th>\n",
       "      <th></th>\n",
       "      <th></th>\n",
       "    </tr>\n",
       "  </thead>\n",
       "  <tbody>\n",
       "    <tr>\n",
       "      <th>False</th>\n",
       "      <td>0.000003</td>\n",
       "      <td>0.000003</td>\n",
       "      <td>0.000492</td>\n",
       "      <td>0.000525</td>\n",
       "      <td>0.000012</td>\n",
       "    </tr>\n",
       "    <tr>\n",
       "      <th>True</th>\n",
       "      <td>0.000012</td>\n",
       "      <td>0.000036</td>\n",
       "      <td>0.002672</td>\n",
       "      <td>0.000482</td>\n",
       "      <td>0.000009</td>\n",
       "    </tr>\n",
       "  </tbody>\n",
       "</table>\n",
       "</div>"
      ],
      "text/plain": [
       "             dre_wo_vvpat_total  dre_w_vvpat_total  bmd_total  hand_fed_total  \\\n",
       "bmd_for_all                                                                     \n",
       "False                  0.000003           0.000003   0.000492        0.000525   \n",
       "True                   0.000012           0.000036   0.002672        0.000482   \n",
       "\n",
       "             batch_fed_total  \n",
       "bmd_for_all                   \n",
       "False               0.000012  \n",
       "True                0.000009  "
      ]
     },
     "execution_count": 26,
     "metadata": {},
     "output_type": "execute_result"
    }
   ],
   "source": [
    "grouped = eq.groupby('bmd_for_all')[equipment_counts + ['scanner_total'] + ['A1a']].sum()\n",
    "per_voter_rates = grouped[equipment_counts].div(grouped['A1a'], axis=0)\n",
    "per_voter_rates\n"
   ]
  },
  {
   "cell_type": "markdown",
   "id": "f1f7dd4b",
   "metadata": {},
   "source": [
    "## extrapolate findings to the rows that were not used for analysis"
   ]
  },
  {
   "cell_type": "code",
   "execution_count": 27,
   "id": "651ba43a",
   "metadata": {},
   "outputs": [],
   "source": [
    "eavs = eavs.copy()\n",
    "\n",
    "# Apply idealized estimates only to rows not used for analysis\n",
    "mask = ~eavs['use_for_analysis']\n",
    "\n",
    "# Estimate based on whether the jurisdiction uses BMDs for all voters\n",
    "for bmd_flag in [True, False]:\n",
    "    rate_row = per_voter_rates.loc[bmd_flag]\n",
    "    submask = mask & (eavs['bmd_or_dre_for_all'] == bmd_flag)\n",
    "    for equipment in equipment_counts:\n",
    "        eavs.loc[submask, f'{equipment}_ideal'] = eavs.loc[submask, 'A1a'] * rate_row[equipment]\n",
    "\n",
    "# # For rows used in analysis, copy actuals into the _ideal columns\n",
    "for equipment in equipment_counts:\n",
    "    eavs.loc[eavs['use_for_analysis'], f'{equipment}_ideal'] = eavs.loc[eavs['use_for_analysis'], equipment]\n",
    "\n",
    "eavs['bmd_total_ideal'] = (\n",
    "    eavs.get('bmd_total_ideal', 0).fillna(0) +\n",
    "    eavs.get('dre_wo_vvpat_total_ideal', 0).fillna(0) +\n",
    "    eavs.get('dre_w_vvpat_total_ideal', 0).fillna(0)\n",
    ")\n"
   ]
  },
  {
   "cell_type": "code",
   "execution_count": 28,
   "id": "5b515c1a",
   "metadata": {},
   "outputs": [],
   "source": [
    "cbo = pd.read_excel('/Users/will/Repos/voting-equipment/cbo_projections.xlsx',\n",
    "                    sheet_name='1. Econ Vars_Annual Rates',\n",
    "                    header=7, index_col=0).T\n",
    "\n",
    "inflation_rates = cbo['Growth of the CPI-U'] / 100\n",
    "\n",
    "def inflation_multiplier(inflation_series, start_year, end_year):\n",
    "    \"\"\"Calculate compounded inflation multiplier from start_year to end_year (inclusive).\"\"\"\n",
    "    relevant_years = inflation_series.loc[start_year:end_year]\n",
    "    multiplier = (1 + relevant_years).prod()\n",
    "    return multiplier\n"
   ]
  },
  {
   "cell_type": "code",
   "execution_count": 30,
   "id": "419f6d29",
   "metadata": {},
   "outputs": [
    {
     "name": "stdout",
     "output_type": "stream",
     "text": [
      "Replacing 274.4 thousand BMDs will cost $1.6 billion\n",
      "Replacing 120.3 thousand Hand-Fed Scanners will cost $1.1 billion\n",
      "Replacing 2.6 thousand Batch-Fed Scanners will cost $327.1 million\n",
      "The total cost of replacing all equipment is $3.0 billion\n"
     ]
    }
   ],
   "source": [
    "vvsg_multiplier = 1.2  # VVSG 2.0 multiplier\n",
    "\n",
    "replacement_year = 2028\n",
    "start_year = 2021\n",
    "\n",
    "inflation = inflation_multiplier(inflation_rates, start_year, replacement_year)\n",
    "\n",
    "cost_multiplier = vvsg_multiplier * inflation\n",
    "\n",
    "bmd_cost = 3665 * cost_multiplier\n",
    "hand_fed_scanner_cost = 5611 * cost_multiplier\n",
    "batch_fed_scanner_cost = 80157 * cost_multiplier\n",
    "\n",
    "bmd_count = eavs['bmd_total_ideal'].sum()\n",
    "hand_fed_scanner_count = eavs['hand_fed_total_ideal'].sum()\n",
    "batch_fed_scanner_count = eavs['batch_fed_total_ideal'].sum()\n",
    "\n",
    "bmd_total_cost = bmd_count * bmd_cost\n",
    "hand_fed_scanner_total_cost = hand_fed_scanner_count * hand_fed_scanner_cost\n",
    "batch_fed_scanner_total_cost = batch_fed_scanner_count * batch_fed_scanner_cost\n",
    "\n",
    "print(f\"Replacing {humanize.intword(bmd_count)} BMDs will cost ${humanize.intword(bmd_total_cost)}\")\n",
    "print(f\"Replacing {humanize.intword(hand_fed_scanner_count)} Hand-Fed Scanners will cost ${humanize.intword(hand_fed_scanner_total_cost)}\")\n",
    "print(f\"Replacing {humanize.intword(batch_fed_scanner_count)} Batch-Fed Scanners will cost ${humanize.intword(batch_fed_scanner_total_cost)}\")\n",
    "print(f\"The total cost of replacing all equipment is ${humanize.intword(bmd_total_cost + hand_fed_scanner_total_cost + batch_fed_scanner_total_cost)}\")"
   ]
  },
  {
   "cell_type": "code",
   "execution_count": 35,
   "id": "deabb38a",
   "metadata": {},
   "outputs": [
    {
     "data": {
      "text/plain": [
       "np.float64(5838.489845572333)"
      ]
     },
     "execution_count": 35,
     "metadata": {},
     "output_type": "execute_result"
    }
   ],
   "source": [
    "bmd_cost"
   ]
  },
  {
   "cell_type": "code",
   "execution_count": 579,
   "id": "79c23c7d",
   "metadata": {},
   "outputs": [
    {
     "data": {
      "text/plain": [
       "np.float64(8938.544754026292)"
      ]
     },
     "execution_count": 579,
     "metadata": {},
     "output_type": "execute_result"
    }
   ],
   "source": [
    "hand_fed_scanner_cost"
   ]
  },
  {
   "cell_type": "code",
   "execution_count": 580,
   "id": "6b32332f",
   "metadata": {},
   "outputs": [
    {
     "data": {
      "text/plain": [
       "np.float64(127693.26890901542)"
      ]
     },
     "execution_count": 580,
     "metadata": {},
     "output_type": "execute_result"
    }
   ],
   "source": [
    "batch_fed_scanner_cost"
   ]
  },
  {
   "cell_type": "code",
   "execution_count": 36,
   "id": "98262276",
   "metadata": {},
   "outputs": [
    {
     "data": {
      "text/plain": [
       "bmd_or_dre_for_all\n",
       "False    5646\n",
       "True      815\n",
       "Name: count, dtype: int64"
      ]
     },
     "execution_count": 36,
     "metadata": {},
     "output_type": "execute_result"
    }
   ],
   "source": [
    "eavs['bmd_or_dre_for_all'].value_counts()"
   ]
  },
  {
   "cell_type": "code",
   "execution_count": 37,
   "id": "4b44b892",
   "metadata": {},
   "outputs": [
    {
     "data": {
      "text/html": [
       "<div>\n",
       "<style scoped>\n",
       "    .dataframe tbody tr th:only-of-type {\n",
       "        vertical-align: middle;\n",
       "    }\n",
       "\n",
       "    .dataframe tbody tr th {\n",
       "        vertical-align: top;\n",
       "    }\n",
       "\n",
       "    .dataframe thead th {\n",
       "        text-align: right;\n",
       "    }\n",
       "</style>\n",
       "<table border=\"1\" class=\"dataframe\">\n",
       "  <thead>\n",
       "    <tr style=\"text-align: right;\">\n",
       "      <th></th>\n",
       "      <th># Jurisdictions</th>\n",
       "      <th># Registered Voters</th>\n",
       "      <th># BMDs</th>\n",
       "      <th>BMD Total Cost</th>\n",
       "      <th># Hand-Fed Scanners</th>\n",
       "      <th>Hand-Fed Scanner Total Cost</th>\n",
       "      <th># Batch-Fed Scanners</th>\n",
       "      <th>Batch-Fed Scanner Total Cost</th>\n",
       "      <th>Total Cost</th>\n",
       "    </tr>\n",
       "  </thead>\n",
       "  <tbody>\n",
       "    <tr>\n",
       "      <th>BMD/DRE-for-all jurisdictions</th>\n",
       "      <td>815</td>\n",
       "      <td>70.9 M</td>\n",
       "      <td>193 K</td>\n",
       "      <td>$1.13 B</td>\n",
       "      <td>34.2 K</td>\n",
       "      <td>$306 M</td>\n",
       "      <td>619</td>\n",
       "      <td>$79.1 M</td>\n",
       "      <td>$1.51 B</td>\n",
       "    </tr>\n",
       "    <tr>\n",
       "      <th>HMPB+BMD jurisdictions</th>\n",
       "      <td>5.65 K</td>\n",
       "      <td>164 M</td>\n",
       "      <td>81.6 K</td>\n",
       "      <td>$476 M</td>\n",
       "      <td>86.1 K</td>\n",
       "      <td>$769 M</td>\n",
       "      <td>1.94 K</td>\n",
       "      <td>$248 M</td>\n",
       "      <td>$1.49 B</td>\n",
       "    </tr>\n",
       "    <tr>\n",
       "      <th>Total</th>\n",
       "      <td>6.46 K</td>\n",
       "      <td>235 M</td>\n",
       "      <td>274 K</td>\n",
       "      <td>$1.6 B</td>\n",
       "      <td>120 K</td>\n",
       "      <td>$1.07 B</td>\n",
       "      <td>2.56 K</td>\n",
       "      <td>$327 M</td>\n",
       "      <td>$3 B</td>\n",
       "    </tr>\n",
       "  </tbody>\n",
       "</table>\n",
       "</div>"
      ],
      "text/plain": [
       "                              # Jurisdictions # Registered Voters  # BMDs  \\\n",
       "BMD/DRE-for-all jurisdictions             815              70.9 M   193 K   \n",
       "HMPB+BMD jurisdictions                 5.65 K               164 M  81.6 K   \n",
       "Total                                  6.46 K               235 M   274 K   \n",
       "\n",
       "                              BMD Total Cost # Hand-Fed Scanners  \\\n",
       "BMD/DRE-for-all jurisdictions        $1.13 B              34.2 K   \n",
       "HMPB+BMD jurisdictions                $476 M              86.1 K   \n",
       "Total                                 $1.6 B               120 K   \n",
       "\n",
       "                              Hand-Fed Scanner Total Cost  \\\n",
       "BMD/DRE-for-all jurisdictions                      $306 M   \n",
       "HMPB+BMD jurisdictions                             $769 M   \n",
       "Total                                             $1.07 B   \n",
       "\n",
       "                              # Batch-Fed Scanners  \\\n",
       "BMD/DRE-for-all jurisdictions                  619   \n",
       "HMPB+BMD jurisdictions                      1.94 K   \n",
       "Total                                       2.56 K   \n",
       "\n",
       "                              Batch-Fed Scanner Total Cost Total Cost  \n",
       "BMD/DRE-for-all jurisdictions                      $79.1 M    $1.51 B  \n",
       "HMPB+BMD jurisdictions                              $248 M    $1.49 B  \n",
       "Total                                               $327 M       $3 B  "
      ]
     },
     "execution_count": 37,
     "metadata": {},
     "output_type": "execute_result"
    }
   ],
   "source": [
    "\n",
    "# Build table rows\n",
    "rows = []\n",
    "\n",
    "for label, group in eavs.groupby('bmd_or_dre_for_all'):\n",
    "    jurisdictions = len(group)\n",
    "\n",
    "    n_registered_voters = group['A1a'].sum()\n",
    "\n",
    "    bmd_count = group['bmd_total_ideal'].sum()\n",
    "    hand_fed_count = group['hand_fed_total_ideal'].sum()\n",
    "    batch_fed_count = group['batch_fed_total_ideal'].sum()\n",
    "\n",
    "    bmd_total = bmd_count * bmd_cost\n",
    "    hand_fed_total = hand_fed_count * hand_fed_scanner_cost\n",
    "    batch_fed_total = batch_fed_count * batch_fed_scanner_cost\n",
    "    total_cost = bmd_total + hand_fed_total + batch_fed_total\n",
    "\n",
    "    rows.append({\n",
    "        'bmd_or_dre_for_all': label,\n",
    "        '# Jurisdictions': jurisdictions,\n",
    "        '# Registered Voters': n_registered_voters,\n",
    "        '# BMDs': int(bmd_count),\n",
    "        'BMD Total Cost': bmd_total,\n",
    "        '# Hand-Fed Scanners': int(hand_fed_count),\n",
    "        'Hand-Fed Scanner Total Cost': hand_fed_total,\n",
    "        '# Batch-Fed Scanners': int(batch_fed_count),\n",
    "        'Batch-Fed Scanner Total Cost': batch_fed_total,\n",
    "        'Total Cost': total_cost,\n",
    "    })\n",
    "\n",
    "# Create DataFrame\n",
    "cost_table = pd.DataFrame(rows)\n",
    "\n",
    "# Add total row\n",
    "totals = {\n",
    "    'bmd_or_dre_for_all': 'Total',\n",
    "    '# Registered Voters': cost_table['# Registered Voters'].sum(),\n",
    "    '# Jurisdictions': cost_table['# Jurisdictions'].sum(),\n",
    "    '# BMDs': cost_table['# BMDs'].sum(),\n",
    "    'BMD Total Cost': cost_table['BMD Total Cost'].sum(),\n",
    "    '# Hand-Fed Scanners': cost_table['# Hand-Fed Scanners'].sum(),\n",
    "    'Hand-Fed Scanner Total Cost': cost_table['Hand-Fed Scanner Total Cost'].sum(),\n",
    "    '# Batch-Fed Scanners': cost_table['# Batch-Fed Scanners'].sum(),\n",
    "    'Batch-Fed Scanner Total Cost': cost_table['Batch-Fed Scanner Total Cost'].sum(),\n",
    "    'Total Cost': cost_table['Total Cost'].sum(),\n",
    "}\n",
    "cost_table = pd.concat([cost_table, pd.DataFrame([totals])], ignore_index=True)\n",
    "\n",
    "# Custom formatter: shows M or B with 1 decimal when needed\n",
    "def number_formatter(x, pos=None):\n",
    "    units = [(1e12, 'T'), (1e9, 'B'), (1e6, 'M'), (1e3, 'K')]\n",
    "\n",
    "    for factor, suffix in units:\n",
    "        if x >= factor:\n",
    "            return f'{x / factor:.3g} {suffix}'.rstrip('0').rstrip('.')\n",
    "\n",
    "    return f'{x:.0f}'\n",
    "\n",
    "# Format cost columns\n",
    "for col in ['BMD Total Cost', 'Hand-Fed Scanner Total Cost', 'Batch-Fed Scanner Total Cost', 'Total Cost']:\n",
    "    # cost_table[col] = cost_table[col].map('${:,.0f}'.format)\n",
    "    # cost_table[col] = cost_table[col].apply(lamda x: \"humanize.intword)\n",
    "    cost_table[col] = cost_table[col].apply(lambda x: f'${number_formatter(x)}')\n",
    "\n",
    "# Format number columns\n",
    "for col in ['# Jurisdictions', '# Registered Voters', '# BMDs', '# Hand-Fed Scanners', '# Batch-Fed Scanners']:\n",
    "    cost_table[col] = cost_table[col].apply(number_formatter)\n",
    "\n",
    "cost_table\n",
    "\n",
    "cost_table = cost_table.set_index('bmd_or_dre_for_all')\n",
    "cost_table.index = cost_table.index.map({\n",
    "    True: 'BMD/DRE-for-all jurisdictions',\n",
    "    False: 'HMPB+BMD jurisdictions',\n",
    "    'Total': 'Total'\n",
    "})\n",
    "cost_table.index.name = None  # Remove index title\n",
    "\n",
    "# Reorder rows\n",
    "cost_table = cost_table.reindex([\n",
    "    'BMD/DRE-for-all jurisdictions',\n",
    "    'HMPB+BMD jurisdictions',\n",
    "    'Total'\n",
    "])\n",
    "\n",
    "cost_table.index.name = None  # Remove index title\n",
    "\n",
    "cost_table"
   ]
  },
  {
   "cell_type": "markdown",
   "id": "5d049cea",
   "metadata": {},
   "source": [
    "## Analysis (flawed) of central vs precinct count\n",
    "\n",
    "can't really use this."
   ]
  },
  {
   "cell_type": "code",
   "execution_count": 11,
   "id": "c0723e3a",
   "metadata": {},
   "outputs": [
    {
     "data": {
      "text/plain": [
       "np.float64(2126.0)"
      ]
     },
     "execution_count": 11,
     "metadata": {},
     "output_type": "execute_result"
    }
   ],
   "source": [
    "eavs['batch_fed_total'].sum()"
   ]
  },
  {
   "cell_type": "code",
   "execution_count": 12,
   "id": "48fa7fc6",
   "metadata": {},
   "outputs": [
    {
     "data": {
      "text/plain": [
       "AccuVote-OS (Premier)                             NaN\n",
       "BallotNow (Hart)                                  NaN\n",
       "Chatsworth ACP (MicroVotes)                       NaN\n",
       "ClearCast (Clear Ballot)                          NaN\n",
       "ClearCount (Clear Ballot)                        49.0\n",
       "DS200 (ES&S)                                   2170.0\n",
       "DS300 (ES&S)                                    107.0\n",
       "DS450 (ES&S)                                    413.0\n",
       "DS850 (ES&S)                                    176.0\n",
       "DS950 (ES&S)                                     39.0\n",
       "Data not available                              378.0\n",
       "Does not apply                                    NaN\n",
       "ExpressVote Tabulator (ES&S)                     13.0\n",
       "ExpressVoteXL (ES&S)                              NaN\n",
       "IBML (Los Angeles County)                         NaN\n",
       "ImageCast Central/ICC (Dominion)                407.0\n",
       "ImageCast Evolution/ICE (Dominion)                NaN\n",
       "ImageCast Precinct/ICP (Dominion)                 NaN\n",
       "ImageCast Precint2/ICP2                          70.0\n",
       "M100 (ES&S)                                       NaN\n",
       "M650 (ES&S)                                       NaN\n",
       "OpenElect Freedom Vote Scan (Unisyn)              NaN\n",
       "OpenElect Voting Central Scan/OVCS (Unisyn)       NaN\n",
       "OpenElect Voting Optical Scan/OVO (Unisyn)        NaN\n",
       "Other (use text box to describe)                287.0\n",
       "Valid skip                                        NaN\n",
       "Verity Central (Hart)                            79.0\n",
       "Verity Scan (Hart)                                NaN\n",
       "eScan (Hart)                                      NaN\n",
       "Name: count, dtype: float64"
      ]
     },
     "execution_count": 12,
     "metadata": {},
     "output_type": "execute_result"
    }
   ],
   "source": [
    "has_scanner = eavs['F6a'] == 'Yes'\n",
    "\n",
    "eavs[has_scanner]['F6b_1'].value_counts() + eavs[has_scanner]['F6b_2'].value_counts() + eavs[has_scanner]['F6b_3'].value_counts()"
   ]
  },
  {
   "cell_type": "markdown",
   "id": "058e0f37",
   "metadata": {},
   "source": [
    "do batch-fed scanners as a function of number of mail-in ballots?"
   ]
  },
  {
   "cell_type": "code",
   "execution_count": 13,
   "id": "52a73980",
   "metadata": {},
   "outputs": [
    {
     "data": {
      "text/plain": [
       "np.float64(47629437.0)"
      ]
     },
     "execution_count": 13,
     "metadata": {},
     "output_type": "execute_result"
    }
   ],
   "source": [
    "pd.to_numeric(eavs['C8a'], errors='coerce').sum()"
   ]
  },
  {
   "cell_type": "code",
   "execution_count": null,
   "id": "6bfc29f8",
   "metadata": {},
   "outputs": [
    {
     "data": {
      "text/plain": [
       "'60.8 million'"
      ]
     },
     "execution_count": 539,
     "metadata": {},
     "output_type": "execute_result"
    }
   ],
   "source": [
    "eavs['ballots_counted_centrally'] = (eavs.loc[eavs['F12a'] == 'Central location', 'F1b'] + # ballots cast in person on election day\n",
    "    eavs.loc[eavs['F12c'] == 'Central location', 'F1e'] + # provisional ballots\n",
    "    eavs.loc[eavs['F12d'] == 'Central location', 'F1f'] + # ballots cast early in person\n",
    "    eavs.loc[eavs['F12e'] == 'Central location', 'F1d'] + # mail ballots, jurisdictions that do not send mail ballots to all voters\n",
    "    eavs.loc[eavs['F12e'] == 'Central location', 'F1g']) #  mail ballots, jurisdictions that send mail ballots to all voters\n",
    "\n",
    "humanize.intword(eavs['ballots_counted_centrally'].sum())\n",
    "\n",
    "\n",
    "# F1b/e/f/g (ballots counted) * F12a/c/d/e"
   ]
  },
  {
   "cell_type": "code",
   "execution_count": null,
   "id": "93745ca3",
   "metadata": {},
   "outputs": [
    {
     "data": {
      "text/plain": [
       "State_Full\n",
       "NORTHERN MARIANA ISLANDS    100.000000\n",
       "HAWAII                      100.000000\n",
       "GUAM                         99.838193\n",
       "LOUISIANA                    99.795705\n",
       "WEST VIRGINIA                99.779773\n",
       "OKLAHOMA                     99.732087\n",
       "DELAWARE                     99.673191\n",
       "ILLINOIS                     99.558609\n",
       "WYOMING                      99.512767\n",
       "NEW YORK                     99.393537\n",
       "MARYLAND                     99.381705\n",
       "NEW MEXICO                   99.377642\n",
       "NEVADA                       99.248939\n",
       "COLORADO                     99.005355\n",
       "NEBRASKA                     97.631651\n",
       "CALIFORNIA                   83.172522\n",
       "SOUTH DAKOTA                 82.570530\n",
       "UTAH                         74.920785\n",
       "TEXAS                        70.363092\n",
       "KENTUCKY                     49.051815\n",
       "MISSOURI                     45.564064\n",
       "OHIO                         44.184359\n",
       "ARIZONA                      35.581653\n",
       "ARKANSAS                     22.799520\n",
       "FLORIDA                      18.397282\n",
       "INDIANA                       0.363495\n",
       "TENNESSEE                     0.000000\n",
       "VERMONT                       0.000000\n",
       "SOUTH CAROLINA                0.000000\n",
       "RHODE ISLAND                  0.000000\n",
       "VIRGINIA                      0.000000\n",
       "PUERTO RICO                   0.000000\n",
       "WASHINGTON                    0.000000\n",
       "PENNSYLVANIA                  0.000000\n",
       "OREGON                        0.000000\n",
       "WISCONSIN                     0.000000\n",
       "U.S. VIRGIN ISLANDS           0.000000\n",
       "ALABAMA                       0.000000\n",
       "NORTH DAKOTA                  0.000000\n",
       "NORTH CAROLINA                0.000000\n",
       "AMERICAN SAMOA                0.000000\n",
       "CONNECTICUT                   0.000000\n",
       "DISTRICT OF COLUMBIA          0.000000\n",
       "GEORGIA                       0.000000\n",
       "IDAHO                         0.000000\n",
       "IOWA                          0.000000\n",
       "KANSAS                        0.000000\n",
       "MAINE                         0.000000\n",
       "MASSACHUSETTS                 0.000000\n",
       "MICHIGAN                      0.000000\n",
       "MINNESOTA                     0.000000\n",
       "MISSISSIPPI                   0.000000\n",
       "ALASKA                        0.000000\n",
       "NEW HAMPSHIRE                 0.000000\n",
       "NEW JERSEY                    0.000000\n",
       "MONTANA                       0.000000\n",
       "dtype: float64"
      ]
     },
     "execution_count": 540,
     "metadata": {},
     "output_type": "execute_result"
    }
   ],
   "source": [
    "# % of total ballots (F1a) counted centrally. this is way off because jurisdictions are incorrectly reporting a central scan\n",
    "(eavs.groupby('State_Full')['ballots_counted_centrally'].sum().sort_values(ascending=False) / \n",
    "  eavs.groupby('State_Full')['F1a'].sum().sort_values(ascending=False)).sort_values(ascending=False)*100"
   ]
  }
 ],
 "metadata": {
  "kernelspec": {
   "display_name": ".venv",
   "language": "python",
   "name": "python3"
  },
  "language_info": {
   "codemirror_mode": {
    "name": "ipython",
    "version": 3
   },
   "file_extension": ".py",
   "mimetype": "text/x-python",
   "name": "python",
   "nbconvert_exporter": "python",
   "pygments_lexer": "ipython3",
   "version": "3.13.0"
  }
 },
 "nbformat": 4,
 "nbformat_minor": 5
}
