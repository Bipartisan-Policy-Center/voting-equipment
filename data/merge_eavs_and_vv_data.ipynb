{
 "cells": [
  {
   "cell_type": "code",
   "execution_count": 1,
   "id": "26e7ff6a",
   "metadata": {},
   "outputs": [],
   "source": [
    "import pandas as pd\n",
    "import seaborn as sns\n",
    "import matplotlib.pyplot as plt\n",
    "import humanize"
   ]
  },
  {
   "cell_type": "code",
   "execution_count": 2,
   "id": "b4a0759a",
   "metadata": {},
   "outputs": [],
   "source": [
    "eavs = pd.read_excel('eavs/2024_EAVS_for_Public_Release_V1_xlsx.xlsx') # 6461 rows\n",
    "\n",
    "# 2026 jurisdiction-level info only (no need for the full VV merged file with equipment across all years)\n",
    "vv = pd.read_csv('vv_capture_2025-07-23_14-12-58/2026/verifier-jurisdictions.csv', skiprows=1, index_col=False, converters={'FIPS code': str}) # 6374 rows\n",
    "\n",
    "\n",
    "eavs.rename(columns={\n",
    "    'Jurisdiction_Name': 'juris',\n",
    "    'FIPSCode': 'fips'\n",
    "}, inplace=True)\n",
    "\n",
    "vv.rename(columns={\n",
    "    'Jurisdiction': 'juris',\n",
    "    'FIPS code': 'fips'\n",
    "}, inplace=True)\n",
    "\n",
    "eavs['fips'] = eavs['fips'].apply(lambda x: str(x).zfill(10))\n"
   ]
  },
  {
   "cell_type": "markdown",
   "id": "1df039f8",
   "metadata": {},
   "source": [
    "## Align FIPS codes across EAVS and VV data"
   ]
  },
  {
   "cell_type": "code",
   "execution_count": 3,
   "id": "4f62261d",
   "metadata": {},
   "outputs": [],
   "source": [
    "# check how good the FIPS merging will be between VV and EAVS\n",
    "\n",
    "def missing_fips_coverage(vv, eavs, verbose=False):\n",
    "    # See how many vv FIPS codes are in eavs\n",
    "    vv['in_eavs'] = vv['fips'].isin(eavs['fips'])\n",
    "    coverage_vv = vv['in_eavs'].mean()  # proportion of vv matched\n",
    "    if verbose:\n",
    "        print(f\"Coverage of vv in eavs: {coverage_vv:.1%}\")\n",
    "        print(vv['in_eavs'].value_counts())\n",
    "        print('\\n')\n",
    "\n",
    "    # See how many eavs FIPS codes are in vv\n",
    "    eavs['in_vv'] = eavs['fips'].isin(vv['fips'])\n",
    "    coverage_eavs = eavs['in_vv'].mean()  # proportion of eavs matched\n",
    "    if verbose:\n",
    "        print(f\"Coverage of eavs in vv: {coverage_eavs:.1%}\")\n",
    "        print(eavs['in_vv'].value_counts())\n",
    "        print('\\n')\n",
    "\n",
    "    # Codes in vv but not in eavs\n",
    "    vv_missing = vv.loc[~vv['in_eavs'], 'fips'].unique()\n",
    "    return vv_missing\n",
    "\n",
    "vv_missing = missing_fips_coverage(vv, eavs);"
   ]
  },
  {
   "cell_type": "code",
   "execution_count": 4,
   "id": "7d1f830c",
   "metadata": {},
   "outputs": [],
   "source": [
    "# match WI on counties\n",
    "wi = vv['State'] == 'Wisconsin'\n",
    "vv['wi_county'] = vv[wi]['juris'].apply(lambda x: x.split('(')[1].split('County')[0].strip().upper())\n",
    "vv['wi_jurisdiction'] = vv[wi]['juris'].apply(lambda x: x.split('(')[0].strip().upper())\n",
    "\n",
    "wi = eavs['State_Full'] == 'WISCONSIN'\n",
    "eavs.loc[wi, 'wi_county'] = eavs.loc[wi, 'juris'].apply(lambda x: x.split(' - ')[1].split('COUNTY')[0].strip())\n",
    "eavs.loc[wi, 'wi_jurisdiction'] = eavs.loc[wi, 'juris'].apply(lambda x: x.split(' - ')[0].strip())\n",
    "\n",
    "county_fips_dict = (\n",
    "    vv.groupby('wi_county')['fips']\n",
    "      .apply(lambda x: list({code[:5] for code in x if pd.notnull(code)})[0])\n",
    "      .to_dict()\n",
    ")\n",
    "\n",
    "for name, fips in county_fips_dict.items():\n",
    "    mask = eavs['wi_county'] == name\n",
    "    eavs.loc[mask, 'fips'] = fips + eavs.loc[mask, 'fips'].str[5:]\n",
    "\n",
    "vv_missing = missing_fips_coverage(vv, eavs);"
   ]
  },
  {
   "cell_type": "code",
   "execution_count": 5,
   "id": "413a7933",
   "metadata": {},
   "outputs": [],
   "source": [
    "# match WI on jurisdictions\n",
    "juris_fips_dict = (\n",
    "    vv.groupby('wi_jurisdiction')['fips']\n",
    "      .apply(lambda x: list({code for code in x if pd.notnull(code)})[0])\n",
    "      .to_dict()\n",
    ")\n",
    "\n",
    "for name, fips in juris_fips_dict.items():\n",
    "    if fips in vv_missing:\n",
    "        mask = eavs['wi_jurisdiction'] == name\n",
    "        eavs.loc[mask, 'fips'] = fips\n",
    "\n",
    "vv_missing = missing_fips_coverage(vv, eavs);\n"
   ]
  },
  {
   "cell_type": "code",
   "execution_count": 6,
   "id": "adc48ecb",
   "metadata": {},
   "outputs": [],
   "source": [
    "# some small fixes\n",
    "fixes = {\n",
    "    '2501943790': '2501900000', # Nantucket, MA\n",
    "    '1100100000': '1100000000', # Washington, DC\n",
    "}\n",
    "eavs['fips'] = eavs['fips'].replace(fixes)\n",
    "\n",
    "# fix NH\n",
    "for fips in vv[vv['fips'].isin(vv_missing)].drop_duplicates('fips')['fips']:\n",
    "    eavs.loc[eavs['fips'].str.contains(fips[:-2]), 'fips'] = fips\n"
   ]
  },
  {
   "cell_type": "markdown",
   "id": "02308ec9",
   "metadata": {},
   "source": [
    "## Merge datasets, mark BMD/DRE-for-all"
   ]
  },
  {
   "cell_type": "code",
   "execution_count": 7,
   "id": "9a0f9836",
   "metadata": {},
   "outputs": [],
   "source": [
    "# merge VV and EAVS\n",
    "vv_jurisdiction_cols = ['fips', 'State', 'juris', 'Registered Voters', 'Precincts', 'Voting Location', 'All Mail Ballot?', 'Election Day Marking Method', 'Election Day Tabulation']\n",
    "eavs = eavs.merge(vv[vv_jurisdiction_cols], on='fips', how='left', suffixes=(None, '_vv'))"
   ]
  },
  {
   "cell_type": "code",
   "execution_count": 8,
   "id": "f0dfff72",
   "metadata": {},
   "outputs": [],
   "source": [
    "# mark BMD/DRE-for-all jurisdictions\n",
    "bmd_for_all = ['Ballot Marking Devices for all voters']\n",
    "dre_for_all = ['DREs with VVPAT for all voters', 'DREs without VVPAT for all voters']\n",
    "\n",
    "eavs[['bmd_for_all', 'dre_for_all', 'bmd_or_dre_for_all']] = False\n",
    "eavs.loc[eavs['Election Day Marking Method'].isin(bmd_for_all), 'bmd_for_all'] = True\n",
    "eavs.loc[eavs['Election Day Marking Method'].isin(dre_for_all), 'dre_for_all'] = True\n",
    "eavs.loc[eavs['bmd_for_all'] | eavs['dre_for_all'], 'bmd_or_dre_for_all'] = True\n"
   ]
  },
  {
   "cell_type": "code",
   "execution_count": 9,
   "id": "e6c67ea8",
   "metadata": {},
   "outputs": [],
   "source": [
    "eavs['A1a'] = pd.to_numeric(eavs['A1a'], errors='coerce')\n",
    "eavs['A1b'] = pd.to_numeric(eavs['A1b'], errors='coerce')"
   ]
  },
  {
   "cell_type": "markdown",
   "id": "20413204",
   "metadata": {},
   "source": [
    "## Compare registered voter count"
   ]
  },
  {
   "cell_type": "code",
   "execution_count": 10,
   "id": "59f7d56d",
   "metadata": {},
   "outputs": [
    {
     "data": {
      "text/plain": [
       "Registered Voters    223.6 million\n",
       "A1a                  234.5 million\n",
       "A1b                  211.1 million\n",
       "dtype: object"
      ]
     },
     "execution_count": 10,
     "metadata": {},
     "output_type": "execute_result"
    },
    {
     "data": {
      "image/png": "[encoded data removed]",
      "text/plain": [
       "<Figure size 640x480 with 1 Axes>"
      ]
     },
     "metadata": {},
     "output_type": "display_data"
    }
   ],
   "source": [
    "# compare VV and EAVS voter count.\n",
    "# EAVS Registered voters is higher, likely because VV registered voters is based on 2022 EAVS.\n",
    "\n",
    "sns.scatterplot(eavs, x='Registered Voters', y='A1a')\n",
    "\n",
    "plt.plot([0, eavs['Registered Voters'].max()], [0, eavs['Registered Voters'].max()], 'k--')\n",
    "\n",
    "eavs[['Registered Voters', 'A1a', 'A1b']].sum().apply(humanize.intword)\n"
   ]
  },
  {
   "cell_type": "code",
   "execution_count": 11,
   "id": "a8f6ba14",
   "metadata": {},
   "outputs": [],
   "source": [
    "# for North Dakota, use VV Registered Voters as EAVS Registered Voters and Active Registered Voters.\n",
    "# (it's identical to the north dakota eligible voters file pulled from the ND SOS website.)\n",
    "eavs.loc[eavs['State_Full'] == \"NORTH DAKOTA\", 'A1a'] = eavs.loc[eavs['State_Full'] == \"NORTH DAKOTA\", 'Registered Voters']\n",
    "eavs.loc[eavs['State_Full'] == \"NORTH DAKOTA\", 'A1b'] = eavs.loc[eavs['State_Full'] == \"NORTH DAKOTA\", 'Registered Voters']"
   ]
  },
  {
   "cell_type": "code",
   "execution_count": null,
   "id": "1a51ac5e",
   "metadata": {},
   "outputs": [],
   "source": [
    "eavs.to_pickle('merged_eavs_and_vv_data.pkl.zip')"
   ]
  }
 ],
 "metadata": {
  "kernelspec": {
   "display_name": ".venv",
   "language": "python",
   "name": "python3"
  },
  "language_info": {
   "codemirror_mode": {
    "name": "ipython",
    "version": 3
   },
   "file_extension": ".py",
   "mimetype": "text/x-python",
   "name": "python",
   "nbconvert_exporter": "python",
   "pygments_lexer": "ipython3",
   "version": "3.13.0"
  }
 },
 "nbformat": 4,
 "nbformat_minor": 5
}
