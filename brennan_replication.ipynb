{
 "cells": [
  {
   "cell_type": "markdown",
   "id": "003a3064",
   "metadata": {},
   "source": [
    "## Replicate the findings in Brennan's [Costs for Replacing Voting Equipment in 2024](https://www.brennancenter.org/our-work/analysis-opinion/costs-replacing-voting-equipment-2024)\n",
    "### Footnote 3\n",
    "To reach this estimate, we relied on Verified Voting data from January 2024. This estimate assumes that precinct count optical scan machines cost $5,000 each and ballot-marking devices cost $3,500 each. We multiplied each of these costs by 4,407, the number of precincts that still use direct recording electronic voting machines without a voter-verified paper audit trail for all voters on Election Day. This amounts to $37,459,500. See generally State of Michigan Central Procurement Services, Revisions for the Contract Between Dominion Voting Systems and the State of Michigan (2017), https://www.michigan.gov/documents/localgov/7700117_555468_7.pdf; see also Dominion Voting Systems, State of Ohio Pricing (2021), https://procure.ohio.gov/pdf/OT902619_Dominion%202021%20Price%20Sheet.pdf; State of Nebraska, Service Contract Award (2020), https://statecontracts.nebraska.gov/Search/ViewDocument?D=7XEyLqmfbfEfFzaF9z49Gw%3D%3D; Dominion Voting Systems, Standard Agreement Form for Professional Services (2019), available at https://verifiedvoting.org/wp-content/uploads/2021/06/AK_2019-dominion-voting-systems-contract.pdf.\n"
   ]
  },
  {
   "cell_type": "code",
   "execution_count": 1,
   "id": "de6d69ce",
   "metadata": {},
   "outputs": [
    {
     "name": "stdout",
     "output_type": "stream",
     "text": [
      "\n",
      "There are 3,988 precincts using DREs without VVPAT for all voters in 2024; Brennan found 4,407.\n",
      "Differences might be due to updated data.\n",
      "\n"
     ]
    }
   ],
   "source": [
    "import pandas as pd\n",
    "jurisdictions = pd.read_csv('data/2024_Verifier_Data_2025-04-09/verifier-jurisdictions.csv', skiprows=1, index_col=False, converters={'FIPS code': str})\n",
    "n_precincts = jurisdictions[jurisdictions['Election Day Marking Method']=='DREs without VVPAT for all voters']['Precincts'].sum()\n",
    "\n",
    "print(\n",
    "f\"\"\"\n",
    "There are {n_precincts:,.0f} precincts using DREs without VVPAT for all voters in 2024; Brennan found 4,407.\n",
    "Differences might be due to updated data.\n",
    "\"\"\")\n",
    "\n"
   ]
  },
  {
   "cell_type": "markdown",
   "id": "bdff8312",
   "metadata": {},
   "source": [
    "## Replicate the findings in Brennan's [Costs for Replacing Voting Equipment in 2024](https://www.brennancenter.org/our-work/analysis-opinion/costs-replacing-voting-equipment-2024)\n",
    "### Footnote 4\n",
    "To reach this estimate, we relied on Verified Voting data from January 2024. We used $5,000 as an estimate for our per-machine replacement cost. We multiplied $5,000 by 40,626, the number of instances in which a precinct uses principal or assistive voting machines on Election Day that were fielded in 2014 or earlier. This amounts to $203,130,000. See generally contracts cited supra note 3.\n"
   ]
  },
  {
   "cell_type": "code",
   "execution_count": 13,
   "id": "30bcee27",
   "metadata": {},
   "outputs": [
    {
     "name": "stdout",
     "output_type": "stream",
     "text": [
      "\n",
      "There are 38,085 precincts using voting equipment fielded in 2014 or earlier, in 2024; Brennan found 40,626.\n",
      "Differences might be due to updated data or a different list of equipment types considered \"principal or assistive voting machines.\"\n",
      "\n"
     ]
    }
   ],
   "source": [
    "df24 = pd.read_csv('data/2024_Verifier_Data_2025-04-09/verifier-machines.csv', skiprows=1, index_col=False, converters={'FIPS code': str})\n",
    "\n",
    "# Non-VVSG equipment\n",
    "non_voting_equipment = ['Paper Poll Book',\n",
    "                        'Hand Counted Paper Ballots', \n",
    "                        'Commercial Electronic Poll Book',\n",
    "                        'In-House Electronic Poll Book',\n",
    "                        'Data Unavailable',\n",
    "                        'Internet Voting: Email',\n",
    "                        'Internet Voting: Web Portal',\n",
    "                        'Internet Voting: Fax',\n",
    "                        'Remote Ballot Marking System: Client-Side',\n",
    "                        'Remote Ballot Marking System: Server-Side']\n",
    "\n",
    "# VVSG equipment\n",
    "voting_equipment = ['Ballot Marking Device', \n",
    "                            'Hand-Fed Optical Scanner',\n",
    "                            'Batch-Fed Optical Scanner',\n",
    "                            'DRE-Touchscreen',\n",
    "                            'DRE-Push Button',\n",
    "                            'DRE-Dial',\n",
    "                            'Mechanical Lever Machine',\n",
    "                            'Punch Card Voting System',\n",
    "                            'Hybrid BMD/Tabulator',\n",
    "                            'Hybrid Optical Scan/DRE',\n",
    "                            'Hybrid Optical Scan/BMD']\n",
    "\n",
    "# filter only for VVSG relevant equipment\n",
    "df24 = df24[df24['Equipment Type'].isin(voting_equipment)]\n",
    "\n",
    "# filter for Election Day equipment\n",
    "df24 = df24[(df24['Election Day Standard']=='Yes') | (df24['Election Day Accessible']=='Yes')]\n",
    "\n",
    "# merge DRE categories\n",
    "df24.loc[df24['Equipment Type'].str.startswith('DRE'), 'Equipment Type'] = 'DRE'\n",
    "\n",
    "\n",
    "merged = pd.merge(df24, jurisdictions, how='left', on='FIPS code')\n",
    "\n",
    "old_equipment = merged[(merged['First Year in Use']<=2014)].drop_duplicates(subset=['FIPS code'], inplace=False)\n",
    "n_precincts = old_equipment['Precincts'].sum()\n",
    "\n",
    "\n",
    "print(\n",
    "f\"\"\"\n",
    "There are {n_precincts:,.0f} precincts using voting equipment fielded in 2014 or earlier, in 2024; Brennan found 40,626.\n",
    "Differences might be due to updated data or a different list of equipment types considered \"principal or assistive voting machines.\"\n",
    "\"\"\")"
   ]
  }
 ],
 "metadata": {
  "kernelspec": {
   "display_name": ".venv",
   "language": "python",
   "name": "python3"
  },
  "language_info": {
   "codemirror_mode": {
    "name": "ipython",
    "version": 3
   },
   "file_extension": ".py",
   "mimetype": "text/x-python",
   "name": "python",
   "nbconvert_exporter": "python",
   "pygments_lexer": "ipython3",
   "version": "3.11.11"
  }
 },
 "nbformat": 4,
 "nbformat_minor": 5
}
